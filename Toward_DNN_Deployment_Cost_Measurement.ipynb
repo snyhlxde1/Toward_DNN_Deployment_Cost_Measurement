{
  "nbformat": 4,
  "nbformat_minor": 0,
  "metadata": {
    "colab": {
      "name": "Toward DNN Deployment Cost Measurement.ipynb",
      "provenance": [],
      "collapsed_sections": [
        "7kfe__74jDfo"
      ]
    },
    "kernelspec": {
      "name": "python3",
      "display_name": "Python 3"
    },
    "language_info": {
      "name": "python"
    },
    "widgets": {
      "application/vnd.jupyter.widget-state+json": {
        "e28a0651bdc14d3788dc17b853ae83ac": {
          "model_module": "@jupyter-widgets/controls",
          "model_name": "HBoxModel",
          "model_module_version": "1.5.0",
          "state": {
            "_dom_classes": [],
            "_model_module": "@jupyter-widgets/controls",
            "_model_module_version": "1.5.0",
            "_model_name": "HBoxModel",
            "_view_count": null,
            "_view_module": "@jupyter-widgets/controls",
            "_view_module_version": "1.5.0",
            "_view_name": "HBoxView",
            "box_style": "",
            "children": [
              "IPY_MODEL_11df1b3d196b4e81a950ce983e2007d5",
              "IPY_MODEL_9221fa851e664b4d8315ddb7a35fa73a",
              "IPY_MODEL_b5afd225146b469eb721eaafa6b70c2a"
            ],
            "layout": "IPY_MODEL_de0cc2be3b2b468fbfd75d35f017ccf1"
          }
        },
        "11df1b3d196b4e81a950ce983e2007d5": {
          "model_module": "@jupyter-widgets/controls",
          "model_name": "HTMLModel",
          "model_module_version": "1.5.0",
          "state": {
            "_dom_classes": [],
            "_model_module": "@jupyter-widgets/controls",
            "_model_module_version": "1.5.0",
            "_model_name": "HTMLModel",
            "_view_count": null,
            "_view_module": "@jupyter-widgets/controls",
            "_view_module_version": "1.5.0",
            "_view_name": "HTMLView",
            "description": "",
            "description_tooltip": null,
            "layout": "IPY_MODEL_e192f4bb98904b89810e40f78785119d",
            "placeholder": "​",
            "style": "IPY_MODEL_ee274a55fef34b27a2b8df48edb07c03",
            "value": "100%"
          }
        },
        "9221fa851e664b4d8315ddb7a35fa73a": {
          "model_module": "@jupyter-widgets/controls",
          "model_name": "FloatProgressModel",
          "model_module_version": "1.5.0",
          "state": {
            "_dom_classes": [],
            "_model_module": "@jupyter-widgets/controls",
            "_model_module_version": "1.5.0",
            "_model_name": "FloatProgressModel",
            "_view_count": null,
            "_view_module": "@jupyter-widgets/controls",
            "_view_module_version": "1.5.0",
            "_view_name": "ProgressView",
            "bar_style": "success",
            "description": "",
            "description_tooltip": null,
            "layout": "IPY_MODEL_a5d1797ae37c499c87f721c968887e65",
            "max": 102530333,
            "min": 0,
            "orientation": "horizontal",
            "style": "IPY_MODEL_e643ecf682854e2c8426433d0d322443",
            "value": 102530333
          }
        },
        "b5afd225146b469eb721eaafa6b70c2a": {
          "model_module": "@jupyter-widgets/controls",
          "model_name": "HTMLModel",
          "model_module_version": "1.5.0",
          "state": {
            "_dom_classes": [],
            "_model_module": "@jupyter-widgets/controls",
            "_model_module_version": "1.5.0",
            "_model_name": "HTMLModel",
            "_view_count": null,
            "_view_module": "@jupyter-widgets/controls",
            "_view_module_version": "1.5.0",
            "_view_name": "HTMLView",
            "description": "",
            "description_tooltip": null,
            "layout": "IPY_MODEL_49cdfa262b1a451e8ba8d8cf9c1fe84f",
            "placeholder": "​",
            "style": "IPY_MODEL_88f8e54f5f694773a58926658a2b87ee",
            "value": " 97.8M/97.8M [00:00&lt;00:00, 182MB/s]"
          }
        },
        "de0cc2be3b2b468fbfd75d35f017ccf1": {
          "model_module": "@jupyter-widgets/base",
          "model_name": "LayoutModel",
          "model_module_version": "1.2.0",
          "state": {
            "_model_module": "@jupyter-widgets/base",
            "_model_module_version": "1.2.0",
            "_model_name": "LayoutModel",
            "_view_count": null,
            "_view_module": "@jupyter-widgets/base",
            "_view_module_version": "1.2.0",
            "_view_name": "LayoutView",
            "align_content": null,
            "align_items": null,
            "align_self": null,
            "border": null,
            "bottom": null,
            "display": null,
            "flex": null,
            "flex_flow": null,
            "grid_area": null,
            "grid_auto_columns": null,
            "grid_auto_flow": null,
            "grid_auto_rows": null,
            "grid_column": null,
            "grid_gap": null,
            "grid_row": null,
            "grid_template_areas": null,
            "grid_template_columns": null,
            "grid_template_rows": null,
            "height": null,
            "justify_content": null,
            "justify_items": null,
            "left": null,
            "margin": null,
            "max_height": null,
            "max_width": null,
            "min_height": null,
            "min_width": null,
            "object_fit": null,
            "object_position": null,
            "order": null,
            "overflow": null,
            "overflow_x": null,
            "overflow_y": null,
            "padding": null,
            "right": null,
            "top": null,
            "visibility": null,
            "width": null
          }
        },
        "e192f4bb98904b89810e40f78785119d": {
          "model_module": "@jupyter-widgets/base",
          "model_name": "LayoutModel",
          "model_module_version": "1.2.0",
          "state": {
            "_model_module": "@jupyter-widgets/base",
            "_model_module_version": "1.2.0",
            "_model_name": "LayoutModel",
            "_view_count": null,
            "_view_module": "@jupyter-widgets/base",
            "_view_module_version": "1.2.0",
            "_view_name": "LayoutView",
            "align_content": null,
            "align_items": null,
            "align_self": null,
            "border": null,
            "bottom": null,
            "display": null,
            "flex": null,
            "flex_flow": null,
            "grid_area": null,
            "grid_auto_columns": null,
            "grid_auto_flow": null,
            "grid_auto_rows": null,
            "grid_column": null,
            "grid_gap": null,
            "grid_row": null,
            "grid_template_areas": null,
            "grid_template_columns": null,
            "grid_template_rows": null,
            "height": null,
            "justify_content": null,
            "justify_items": null,
            "left": null,
            "margin": null,
            "max_height": null,
            "max_width": null,
            "min_height": null,
            "min_width": null,
            "object_fit": null,
            "object_position": null,
            "order": null,
            "overflow": null,
            "overflow_x": null,
            "overflow_y": null,
            "padding": null,
            "right": null,
            "top": null,
            "visibility": null,
            "width": null
          }
        },
        "ee274a55fef34b27a2b8df48edb07c03": {
          "model_module": "@jupyter-widgets/controls",
          "model_name": "DescriptionStyleModel",
          "model_module_version": "1.5.0",
          "state": {
            "_model_module": "@jupyter-widgets/controls",
            "_model_module_version": "1.5.0",
            "_model_name": "DescriptionStyleModel",
            "_view_count": null,
            "_view_module": "@jupyter-widgets/base",
            "_view_module_version": "1.2.0",
            "_view_name": "StyleView",
            "description_width": ""
          }
        },
        "a5d1797ae37c499c87f721c968887e65": {
          "model_module": "@jupyter-widgets/base",
          "model_name": "LayoutModel",
          "model_module_version": "1.2.0",
          "state": {
            "_model_module": "@jupyter-widgets/base",
            "_model_module_version": "1.2.0",
            "_model_name": "LayoutModel",
            "_view_count": null,
            "_view_module": "@jupyter-widgets/base",
            "_view_module_version": "1.2.0",
            "_view_name": "LayoutView",
            "align_content": null,
            "align_items": null,
            "align_self": null,
            "border": null,
            "bottom": null,
            "display": null,
            "flex": null,
            "flex_flow": null,
            "grid_area": null,
            "grid_auto_columns": null,
            "grid_auto_flow": null,
            "grid_auto_rows": null,
            "grid_column": null,
            "grid_gap": null,
            "grid_row": null,
            "grid_template_areas": null,
            "grid_template_columns": null,
            "grid_template_rows": null,
            "height": null,
            "justify_content": null,
            "justify_items": null,
            "left": null,
            "margin": null,
            "max_height": null,
            "max_width": null,
            "min_height": null,
            "min_width": null,
            "object_fit": null,
            "object_position": null,
            "order": null,
            "overflow": null,
            "overflow_x": null,
            "overflow_y": null,
            "padding": null,
            "right": null,
            "top": null,
            "visibility": null,
            "width": null
          }
        },
        "e643ecf682854e2c8426433d0d322443": {
          "model_module": "@jupyter-widgets/controls",
          "model_name": "ProgressStyleModel",
          "model_module_version": "1.5.0",
          "state": {
            "_model_module": "@jupyter-widgets/controls",
            "_model_module_version": "1.5.0",
            "_model_name": "ProgressStyleModel",
            "_view_count": null,
            "_view_module": "@jupyter-widgets/base",
            "_view_module_version": "1.2.0",
            "_view_name": "StyleView",
            "bar_color": null,
            "description_width": ""
          }
        },
        "49cdfa262b1a451e8ba8d8cf9c1fe84f": {
          "model_module": "@jupyter-widgets/base",
          "model_name": "LayoutModel",
          "model_module_version": "1.2.0",
          "state": {
            "_model_module": "@jupyter-widgets/base",
            "_model_module_version": "1.2.0",
            "_model_name": "LayoutModel",
            "_view_count": null,
            "_view_module": "@jupyter-widgets/base",
            "_view_module_version": "1.2.0",
            "_view_name": "LayoutView",
            "align_content": null,
            "align_items": null,
            "align_self": null,
            "border": null,
            "bottom": null,
            "display": null,
            "flex": null,
            "flex_flow": null,
            "grid_area": null,
            "grid_auto_columns": null,
            "grid_auto_flow": null,
            "grid_auto_rows": null,
            "grid_column": null,
            "grid_gap": null,
            "grid_row": null,
            "grid_template_areas": null,
            "grid_template_columns": null,
            "grid_template_rows": null,
            "height": null,
            "justify_content": null,
            "justify_items": null,
            "left": null,
            "margin": null,
            "max_height": null,
            "max_width": null,
            "min_height": null,
            "min_width": null,
            "object_fit": null,
            "object_position": null,
            "order": null,
            "overflow": null,
            "overflow_x": null,
            "overflow_y": null,
            "padding": null,
            "right": null,
            "top": null,
            "visibility": null,
            "width": null
          }
        },
        "88f8e54f5f694773a58926658a2b87ee": {
          "model_module": "@jupyter-widgets/controls",
          "model_name": "DescriptionStyleModel",
          "model_module_version": "1.5.0",
          "state": {
            "_model_module": "@jupyter-widgets/controls",
            "_model_module_version": "1.5.0",
            "_model_name": "DescriptionStyleModel",
            "_view_count": null,
            "_view_module": "@jupyter-widgets/base",
            "_view_module_version": "1.2.0",
            "_view_name": "StyleView",
            "description_width": ""
          }
        }
      }
    },
    "accelerator": "GPU"
  },
  "cells": [
    {
      "cell_type": "markdown",
      "source": [
        "<div align=\"center\">\n",
        "<h1>Toward DNN Deployment Cost Measurements</h1>\n",
        "Lanxiang Hu\n",
        "</div>\n",
        "\n",
        "---\n"
      ],
      "metadata": {
        "id": "slVk7mZc0YTg"
      }
    },
    {
      "cell_type": "markdown",
      "source": [
        "# Reference\n",
        "[1] Ma, Ningning, et al. **Shufflenet v2: Practical guidelines for efficient cnn architecture design**. Proceedings of the European conference on computer vision (ECCV). 2018. [[paper]](https://arxiv.org/abs/1807.11164v1).\n",
        "\n",
        "[2] **THOP: PyTorch-OpCounter**. [[code]](https://github.com/Lyken17/pytorch-OpCounter).\n",
        "\n",
        "[3] **Flops counter for convolutional networks in pytorch framework**. [[code]](https://github.com/sovrasov/flops-counter.pytorch).\n",
        "\n",
        "[4] Chang, Jiho, et al. **Reducing MAC operation in convolutional neural network with sign prediction.** 2018 International Conference on Information and Communication Technology Convergence (ICTC). IEEE, 2018. [[paper]](https://junheecho.com/assets/papers/ictc18.pdf).\n",
        "\n",
        "[5] Model optimization: **model FLOPs**. [[slides]](https://indico.cern.ch/event/917049/contributions/3856417/attachments/2034165/3405345/Quantized_CNN_LLP.pdf).\n",
        "\n",
        "[6] Wang, Xin, et al. **Skipnet: Learning dynamic routing in convolutional networks.** Proceedings of the European Conference on Computer Vision (ECCV). 2018. [[paper]](https://arxiv.org/abs/1711.09485)[[code]](https://github.com/ucbdrive/skipnet).\n",
        "\n",
        "[7] ICLR‘20 Once-for-All tutorial: **Train One Network and Specialize it for Efficient Deployment**. [[paper]](https://arxiv.org/pdf/1908.09791.pdf), [[code]](https://github.com/mit-han-lab/once-for-all/tree/master/tutorial), [[talk]](https://youtu.be/a_OeT8MXzWI)."
      ],
      "metadata": {
        "id": "Oyd-Upgp2ek_"
      }
    },
    {
      "cell_type": "markdown",
      "source": [
        "# Load Libraries"
      ],
      "metadata": {
        "id": "oFWOmF3r0n5l"
      }
    },
    {
      "cell_type": "code",
      "execution_count": 65,
      "metadata": {
        "id": "kUMl6E4lyC-5"
      },
      "outputs": [],
      "source": [
        "from tqdm import tqdm\n",
        "\n",
        "import os\n",
        "import torch\n",
        "import torch.nn as nn\n",
        "import torchvision\n",
        "from torchvision import transforms, datasets\n",
        "import numpy as np\n",
        "import time\n",
        "import random\n",
        "import math\n",
        "import copy\n",
        "from matplotlib import pyplot as plt\n",
        "\n",
        "from torchsummary import summary"
      ]
    },
    {
      "cell_type": "code",
      "source": [
        "# set random seed\n",
        "random_seed = 1\n",
        "random.seed(random_seed)\n",
        "np.random.seed(random_seed)\n",
        "torch.manual_seed(random_seed)\n",
        "print('Successfully imported all packages and configured random seed to %d!'%random_seed)"
      ],
      "metadata": {
        "colab": {
          "base_uri": "https://localhost:8080/"
        },
        "id": "3VSW4UvGEoP_",
        "outputId": "ffc13e01-ae9a-469d-d71a-729bb636c14a"
      },
      "execution_count": 66,
      "outputs": [
        {
          "output_type": "stream",
          "name": "stdout",
          "text": [
            "Successfully imported all packages and configured random seed to 1!\n"
          ]
        }
      ]
    },
    {
      "cell_type": "code",
      "source": [
        "#os.environ['CUDA_VISIBLE_DEVICES'] = '0'\n",
        "cuda_available = torch.cuda.is_available()\n",
        "if cuda_available:\n",
        "    torch.backends.cudnn.enabled = True\n",
        "    torch.backends.cudnn.benchmark = True\n",
        "    torch.cuda.manual_seed(random_seed)\n",
        "    print('Using GPU.')\n",
        "else:\n",
        "    print('Using CPU.')"
      ],
      "metadata": {
        "colab": {
          "base_uri": "https://localhost:8080/"
        },
        "id": "Cgl4rI5OEa7u",
        "outputId": "aae2e1f2-060d-4a80-a614-e2858fdf7d14"
      },
      "execution_count": 67,
      "outputs": [
        {
          "output_type": "stream",
          "name": "stdout",
          "text": [
            "Using GPU.\n"
          ]
        }
      ]
    },
    {
      "cell_type": "markdown",
      "source": [
        "# Build Evaluator Class"
      ],
      "metadata": {
        "id": "F9Ktv8LP0qKB"
      }
    },
    {
      "cell_type": "markdown",
      "source": [
        "Evaluator class that can be leveraged to measure the deployement cost of a DNN. The costs are usually quantified with the following metrics:\n",
        "1. Memory cost (in MB).\n",
        "2. FLOPs.\n",
        "3. MAC/MACCs (memory access cost/multiply-and-accumulate cost).\n",
        "\n",
        "For memory cost, notice that the unit used here is MB with $1024^2$B = 1MB. \n",
        "\n",
        "According to [2, 3], FLOPs can be quantified by multiplying the size of the feature map on the basis of the parameters. \n",
        "\n",
        "$$\\text{FLOPs} = \\left[\\left(K_h \\times K_w\\right) \\times c_1 +1\\right]  \\left( h \\times w \\right) c_2 \\\\\n",
        "= h w\\left[  K_h \\times K_w\\times c_1c_2 + c_2\\right] \\\\\n",
        "= \\text{feature map size} \\times  \\text{number of parameters}$$\n",
        "\n",
        "Notice that The input and output to convolutional layers are three-dimensional feature maps or namely tensors of size $h \\times w \\times c$ where $h$ and $w$ are spatial sizes of the feature map.\n",
        "\n",
        "For memory access cost (MAC), It can be quantified with number of multiply-and-accumulate operations (MACCs). [1] proposes a metric that sets a lower bound for MAC as \n",
        "\n",
        "\n",
        "$$\\text{MAC} \\geq 2 \\sqrt{h w B} + \\dfrac{B}{hw}$$\n",
        "\n",
        "It reaches the lower bound when input channels and output channels are equal.\n",
        "\n",
        "For $1\\times 1$ group convolution, MAC can be precisely calculated as\n",
        "\n",
        "$$\\text{MAC} = hw (c_1+c_2) + \\dfrac{c_1 c_2}{g} \\\\\n",
        "= hwc_1 + \\dfrac{Bg}{c_1} + \\dfrac{B}{hw}$$\n",
        "\n",
        "According to [2, 3], for a convolutional layer with kernel size $K$, MAC can be quantified with the number of MACCs as\n",
        "\n",
        "$$\\text{MAC} = \\left(K\\times K\\right) \\times \\left(h \\times w \\right)\\times c_1 \\times c_2 \\\\\n",
        "= \\text{kernel size} \\times \\text{feature map size} \\times \\text{input channel} \\times \\text{output channel}$$\n",
        "\n",
        "\n",
        "\n"
      ],
      "metadata": {
        "id": "Z1TiTjgC0W_w"
      }
    },
    {
      "cell_type": "code",
      "source": [
        "class CostEvaluator:\n",
        "  def __init__(self, **kwargs):\n",
        "    # hyper-parameters\n",
        "    self.turn_on_log = kwargs.get(\"turn_on_log\", 0)\n",
        "\n",
        "  def memory_size_evaluator(self, nn_model):\n",
        "    param_size = 0\n",
        "    for param in nn_model.parameters():\n",
        "        param_size += param.nelement() * param.element_size()\n",
        "    buffer_size = 0\n",
        "    for buffer in nn_model.buffers():\n",
        "        buffer_size += buffer.nelement() * buffer.element_size()\n",
        "\n",
        "    total_size_mb = (param_size + buffer_size) / 1024**2\n",
        "    print('model size: {:.3f}MB'.format(total_size_mb))\n",
        "    return total_size_mb\n",
        "\n",
        "  def flops_evaluator(self, nn_model, in_channels, input_h, input_w):\n",
        "    # summing all layers together\n",
        "    total_flops = 0\n",
        "    h_prev = 0\n",
        "    w_prev = 0\n",
        "    h = input_h\n",
        "    w = input_w\n",
        "    c_prev = in_channels\n",
        "\n",
        "    counter = 0\n",
        "    # unwrap nn model\n",
        "    unwrapped_model = [module for module in nn_model.modules() if not isinstance(module, torch.nn.modules.container.Sequential) and not isinstance(module, torchvision.models.resnet.ResNet)]\n",
        "\n",
        "    for module in unwrapped_model:\n",
        "      if (self.turn_on_log):\n",
        "        print('processing layer {}'.format(counter))\n",
        "        print('layer type: {}'.format(type(module)))\n",
        "      # there is a possible change in output size if the module is a convolutional layer or maxpool layer\n",
        "      if (type(module) == torch.nn.modules.conv.Conv2d or type(module) == torch.nn.modules.pooling.MaxPool2d):\n",
        "        if (type(module.kernel_size) == int):\n",
        "          # handle int cases\n",
        "          if (module.kernel_size > 1 and module.stride > 1):\n",
        "            ratio = module.stride\n",
        "            h_prev = h\n",
        "            w_prev = w\n",
        "            h = h / ratio\n",
        "            w = w / ratio\n",
        "            if (self.turn_on_log): print('output dimensions shrinking')\n",
        "        else:\n",
        "          # handle tuple cases\n",
        "          if ((module.kernel_size[0] > 1 or module.kernel_size[1] > 1) and (module.stride[0] > 1 or module.stride[1] > 1)):\n",
        "            ratio = module.stride[0]\n",
        "            h_prev = h\n",
        "            w_prev = w\n",
        "            h = h / ratio\n",
        "            w = w / ratio\n",
        "            if (self.turn_on_log): print('output dimensions shrinking')\n",
        "      elif (type(module) == torch.nn.modules.pooling.AdaptiveAvgPool2d):\n",
        "        h_prev = h\n",
        "        w_prev = w\n",
        "        h = 1\n",
        "        w = 1\n",
        "\n",
        "      if (type(module) == torch.nn.Conv2d):\n",
        "        # convolutional layer.\n",
        "        if (self.turn_on_log): print('calculating FLOPs for Conv2d...')\n",
        "        c_prev = module.out_channels\n",
        "        total_flops += ((module.kernel_size[0] * module.kernel_size[1]) * module.in_channels  + 1) * (h * w) * module.out_channels\n",
        "      elif (type(module) == torch.nn.MaxPool2d):\n",
        "        # handle else case with maxpool\n",
        "        if (self.turn_on_log): print('calculating FLOPs for MaxPool2d...')\n",
        "        # number of filters\n",
        "        n_1 = h_prev / module.stride\n",
        "        n_2 = w_prev / module.stride\n",
        "        n_tot = n_1 * n_2\n",
        "        # note that number of channels should be held unchanged\n",
        "        total_flops += (module.kernel_size * module.kernel_size + 1) * (h * w) * c_prev * n_tot\n",
        "      elif (type(module) == torch.nn.ReLU):\n",
        "        # handle else case with ReLU \n",
        "        # Assuming number of flops equal to length of input vector, ReLU takes 1 comparison and 1 multiplication\n",
        "        if (self.turn_on_log): print('calculating FLOPs for ReLU...')\n",
        "        total_flops += 2 * (h * w) * c_prev\n",
        "      elif (type(module) == torch.nn.BatchNorm2d):\n",
        "        # handle else case with BatchNorm\n",
        "        if (self.turn_on_log): print('calculating FLOPs for BatchNorm2d...')\n",
        "        mean_ops = (h * w) * module.num_features + 1\n",
        "        std_ops = 2 * ((h * w) * module.num_features + 1)\n",
        "        normalization_ops = 2 * (h * w) * module.num_features\n",
        "        scale_and_shift_ops = 2 * (h * w) * module.num_features\n",
        "        total_flops += mean_ops + std_ops + normalization_ops + scale_and_shift_ops\n",
        "\n",
        "      counter += 1\n",
        "      if (self.turn_on_log): print('------------------')\n",
        "\n",
        "    total_flops_G = total_flops / 10**9\n",
        "    print('total FLOPs: {:.3f} = {}G'.format(total_flops, total_flops_G))\n",
        "    return total_flops\n",
        "\n",
        "\n",
        "  def mac_evaluator(self, nn_model, input_h, input_w):\n",
        "    # summing all layers together\n",
        "    total_mac = 0\n",
        "    h = input_h\n",
        "    w = input_w\n",
        "\n",
        "    # unwrap the nn model\n",
        "    # the complete ResNet object is specifically excluded\n",
        "    unwrapped_model = [module for module in nn_model.modules() if not isinstance(module, torch.nn.modules.container.Sequential) and not isinstance(module, torchvision.models.resnet.ResNet)]\n",
        "\n",
        "    counter = 0\n",
        "    for module in unwrapped_model:\n",
        "      if (self.turn_on_log): print('processing layer {}'.format(counter))\n",
        "      if (self.turn_on_log): print('layer type: {}'.format(type(module)))\n",
        "      if (type(module) == torch.nn.modules.conv.Conv2d or type(module) == torch.nn.modules.pooling.MaxPool2d):\n",
        "        if (type(module.kernel_size) == int):\n",
        "          # handle int case\n",
        "          if (module.kernel_size > 1 and module.stride > 1):\n",
        "            ratio = module.stride\n",
        "            h = h / ratio\n",
        "            w = w / ratio\n",
        "            if (self.turn_on_log): print('output dimensions shrinking')\n",
        "        else:\n",
        "          # handle tuple case\n",
        "          if ((module.kernel_size[0] > 1 or module.kernel_size[1] > 1) and (module.stride[0] > 1 or module.stride[1] > 1)):\n",
        "            ratio = module.stride[0]\n",
        "            h = h / ratio\n",
        "            w = w / ratio\n",
        "            if (self.turn_on_log): print('output dimensions shrinking')\n",
        "      elif (type(module) == torch.nn.modules.pooling.AdaptiveAvgPool2d):\n",
        "        h_prev = h\n",
        "        w_prev = w\n",
        "        h = 1\n",
        "        w = 1\n",
        "\n",
        "      if (type(module) == torch.nn.Conv2d):\n",
        "        # MAC operations are dominated by computations carried out in convolutional layer\n",
        "        total_mac += (module.in_channels * module.out_channels) * (h * w) * (module.kernel_size[0] * module.kernel_size[1])\n",
        "      counter += 1\n",
        "      if (self.turn_on_log): print('------------------')\n",
        "    total_mac_G = total_mac / 10**9\n",
        "    print('total MACCs: {:.3f} = {}G'.format(total_mac, total_mac_G))\n",
        "    return total_mac\n",
        "  \n",
        "  def inference_time_evaluator(self, device_flops, device_name, nn_model, in_channels, input_h, input_w):\n",
        "    print('starting inference time analysis...')\n",
        "    total_flop = self.flops_evaluator(nn_model, in_channels, input_h, input_w)\n",
        "    inf_time = total_flop / device_flops\n",
        "    print('total inference time: {:.3f}s with {}'.format(inf_time, device_name))\n",
        "    return total_flop / device_flops\n",
        "\n",
        "  def power_evaluator(self, device_power_spec, device_flops, nn_model, in_channels, input_h, input_w):\n",
        "    print('starting inference power analysis...')\n",
        "    total_flop = self.flops_evaluator(nn_model, in_channels, input_h, input_w)\n",
        "    inf_time = total_flop / device_flops\n",
        "    power = inf_time * device_power_spec\n",
        "    print('total inference power consumption: {:.3f}s'.format(power))\n",
        "    return power"
      ],
      "metadata": {
        "id": "HUslWiply1nl"
      },
      "execution_count": 89,
      "outputs": []
    },
    {
      "cell_type": "markdown",
      "source": [
        "# ResNet50 Deployment Cost Estimation"
      ],
      "metadata": {
        "id": "7kfe__74jDfo"
      }
    },
    {
      "cell_type": "code",
      "source": [
        "resnet_50 = torch.hub.load('pytorch/vision:v0.10.0', 'resnet50', pretrained=True)"
      ],
      "metadata": {
        "id": "4lCoycqcblHj",
        "colab": {
          "base_uri": "https://localhost:8080/",
          "height": 103,
          "referenced_widgets": [
            "e28a0651bdc14d3788dc17b853ae83ac",
            "11df1b3d196b4e81a950ce983e2007d5",
            "9221fa851e664b4d8315ddb7a35fa73a",
            "b5afd225146b469eb721eaafa6b70c2a",
            "de0cc2be3b2b468fbfd75d35f017ccf1",
            "e192f4bb98904b89810e40f78785119d",
            "ee274a55fef34b27a2b8df48edb07c03",
            "a5d1797ae37c499c87f721c968887e65",
            "e643ecf682854e2c8426433d0d322443",
            "49cdfa262b1a451e8ba8d8cf9c1fe84f",
            "88f8e54f5f694773a58926658a2b87ee"
          ]
        },
        "outputId": "37c529e9-cbcd-40dd-9c55-874afb08f200"
      },
      "execution_count": 75,
      "outputs": [
        {
          "output_type": "stream",
          "name": "stderr",
          "text": [
            "Downloading: \"https://github.com/pytorch/vision/archive/v0.10.0.zip\" to /root/.cache/torch/hub/v0.10.0.zip\n",
            "Downloading: \"https://download.pytorch.org/models/resnet50-0676ba61.pth\" to /root/.cache/torch/hub/checkpoints/resnet50-0676ba61.pth\n"
          ]
        },
        {
          "output_type": "display_data",
          "data": {
            "text/plain": [
              "  0%|          | 0.00/97.8M [00:00<?, ?B/s]"
            ],
            "application/vnd.jupyter.widget-view+json": {
              "version_major": 2,
              "version_minor": 0,
              "model_id": "e28a0651bdc14d3788dc17b853ae83ac"
            }
          },
          "metadata": {}
        }
      ]
    },
    {
      "cell_type": "code",
      "source": [
        "# Consider standard imagenet input\n",
        "summary(resnet_50, (3, 224, 224))"
      ],
      "metadata": {
        "colab": {
          "base_uri": "https://localhost:8080/"
        },
        "id": "yaFDOK98ke_G",
        "outputId": "c865fa1d-18ea-444d-d66b-70929bd3620f"
      },
      "execution_count": 19,
      "outputs": [
        {
          "output_type": "stream",
          "name": "stdout",
          "text": [
            "----------------------------------------------------------------\n",
            "        Layer (type)               Output Shape         Param #\n",
            "================================================================\n",
            "            Conv2d-1         [-1, 64, 112, 112]           9,408\n",
            "       BatchNorm2d-2         [-1, 64, 112, 112]             128\n",
            "              ReLU-3         [-1, 64, 112, 112]               0\n",
            "         MaxPool2d-4           [-1, 64, 56, 56]               0\n",
            "            Conv2d-5           [-1, 64, 56, 56]           4,096\n",
            "       BatchNorm2d-6           [-1, 64, 56, 56]             128\n",
            "              ReLU-7           [-1, 64, 56, 56]               0\n",
            "            Conv2d-8           [-1, 64, 56, 56]          36,864\n",
            "       BatchNorm2d-9           [-1, 64, 56, 56]             128\n",
            "             ReLU-10           [-1, 64, 56, 56]               0\n",
            "           Conv2d-11          [-1, 256, 56, 56]          16,384\n",
            "      BatchNorm2d-12          [-1, 256, 56, 56]             512\n",
            "           Conv2d-13          [-1, 256, 56, 56]          16,384\n",
            "      BatchNorm2d-14          [-1, 256, 56, 56]             512\n",
            "             ReLU-15          [-1, 256, 56, 56]               0\n",
            "       Bottleneck-16          [-1, 256, 56, 56]               0\n",
            "           Conv2d-17           [-1, 64, 56, 56]          16,384\n",
            "      BatchNorm2d-18           [-1, 64, 56, 56]             128\n",
            "             ReLU-19           [-1, 64, 56, 56]               0\n",
            "           Conv2d-20           [-1, 64, 56, 56]          36,864\n",
            "      BatchNorm2d-21           [-1, 64, 56, 56]             128\n",
            "             ReLU-22           [-1, 64, 56, 56]               0\n",
            "           Conv2d-23          [-1, 256, 56, 56]          16,384\n",
            "      BatchNorm2d-24          [-1, 256, 56, 56]             512\n",
            "             ReLU-25          [-1, 256, 56, 56]               0\n",
            "       Bottleneck-26          [-1, 256, 56, 56]               0\n",
            "           Conv2d-27           [-1, 64, 56, 56]          16,384\n",
            "      BatchNorm2d-28           [-1, 64, 56, 56]             128\n",
            "             ReLU-29           [-1, 64, 56, 56]               0\n",
            "           Conv2d-30           [-1, 64, 56, 56]          36,864\n",
            "      BatchNorm2d-31           [-1, 64, 56, 56]             128\n",
            "             ReLU-32           [-1, 64, 56, 56]               0\n",
            "           Conv2d-33          [-1, 256, 56, 56]          16,384\n",
            "      BatchNorm2d-34          [-1, 256, 56, 56]             512\n",
            "             ReLU-35          [-1, 256, 56, 56]               0\n",
            "       Bottleneck-36          [-1, 256, 56, 56]               0\n",
            "           Conv2d-37          [-1, 128, 56, 56]          32,768\n",
            "      BatchNorm2d-38          [-1, 128, 56, 56]             256\n",
            "             ReLU-39          [-1, 128, 56, 56]               0\n",
            "           Conv2d-40          [-1, 128, 28, 28]         147,456\n",
            "      BatchNorm2d-41          [-1, 128, 28, 28]             256\n",
            "             ReLU-42          [-1, 128, 28, 28]               0\n",
            "           Conv2d-43          [-1, 512, 28, 28]          65,536\n",
            "      BatchNorm2d-44          [-1, 512, 28, 28]           1,024\n",
            "           Conv2d-45          [-1, 512, 28, 28]         131,072\n",
            "      BatchNorm2d-46          [-1, 512, 28, 28]           1,024\n",
            "             ReLU-47          [-1, 512, 28, 28]               0\n",
            "       Bottleneck-48          [-1, 512, 28, 28]               0\n",
            "           Conv2d-49          [-1, 128, 28, 28]          65,536\n",
            "      BatchNorm2d-50          [-1, 128, 28, 28]             256\n",
            "             ReLU-51          [-1, 128, 28, 28]               0\n",
            "           Conv2d-52          [-1, 128, 28, 28]         147,456\n",
            "      BatchNorm2d-53          [-1, 128, 28, 28]             256\n",
            "             ReLU-54          [-1, 128, 28, 28]               0\n",
            "           Conv2d-55          [-1, 512, 28, 28]          65,536\n",
            "      BatchNorm2d-56          [-1, 512, 28, 28]           1,024\n",
            "             ReLU-57          [-1, 512, 28, 28]               0\n",
            "       Bottleneck-58          [-1, 512, 28, 28]               0\n",
            "           Conv2d-59          [-1, 128, 28, 28]          65,536\n",
            "      BatchNorm2d-60          [-1, 128, 28, 28]             256\n",
            "             ReLU-61          [-1, 128, 28, 28]               0\n",
            "           Conv2d-62          [-1, 128, 28, 28]         147,456\n",
            "      BatchNorm2d-63          [-1, 128, 28, 28]             256\n",
            "             ReLU-64          [-1, 128, 28, 28]               0\n",
            "           Conv2d-65          [-1, 512, 28, 28]          65,536\n",
            "      BatchNorm2d-66          [-1, 512, 28, 28]           1,024\n",
            "             ReLU-67          [-1, 512, 28, 28]               0\n",
            "       Bottleneck-68          [-1, 512, 28, 28]               0\n",
            "           Conv2d-69          [-1, 128, 28, 28]          65,536\n",
            "      BatchNorm2d-70          [-1, 128, 28, 28]             256\n",
            "             ReLU-71          [-1, 128, 28, 28]               0\n",
            "           Conv2d-72          [-1, 128, 28, 28]         147,456\n",
            "      BatchNorm2d-73          [-1, 128, 28, 28]             256\n",
            "             ReLU-74          [-1, 128, 28, 28]               0\n",
            "           Conv2d-75          [-1, 512, 28, 28]          65,536\n",
            "      BatchNorm2d-76          [-1, 512, 28, 28]           1,024\n",
            "             ReLU-77          [-1, 512, 28, 28]               0\n",
            "       Bottleneck-78          [-1, 512, 28, 28]               0\n",
            "           Conv2d-79          [-1, 256, 28, 28]         131,072\n",
            "      BatchNorm2d-80          [-1, 256, 28, 28]             512\n",
            "             ReLU-81          [-1, 256, 28, 28]               0\n",
            "           Conv2d-82          [-1, 256, 14, 14]         589,824\n",
            "      BatchNorm2d-83          [-1, 256, 14, 14]             512\n",
            "             ReLU-84          [-1, 256, 14, 14]               0\n",
            "           Conv2d-85         [-1, 1024, 14, 14]         262,144\n",
            "      BatchNorm2d-86         [-1, 1024, 14, 14]           2,048\n",
            "           Conv2d-87         [-1, 1024, 14, 14]         524,288\n",
            "      BatchNorm2d-88         [-1, 1024, 14, 14]           2,048\n",
            "             ReLU-89         [-1, 1024, 14, 14]               0\n",
            "       Bottleneck-90         [-1, 1024, 14, 14]               0\n",
            "           Conv2d-91          [-1, 256, 14, 14]         262,144\n",
            "      BatchNorm2d-92          [-1, 256, 14, 14]             512\n",
            "             ReLU-93          [-1, 256, 14, 14]               0\n",
            "           Conv2d-94          [-1, 256, 14, 14]         589,824\n",
            "      BatchNorm2d-95          [-1, 256, 14, 14]             512\n",
            "             ReLU-96          [-1, 256, 14, 14]               0\n",
            "           Conv2d-97         [-1, 1024, 14, 14]         262,144\n",
            "      BatchNorm2d-98         [-1, 1024, 14, 14]           2,048\n",
            "             ReLU-99         [-1, 1024, 14, 14]               0\n",
            "      Bottleneck-100         [-1, 1024, 14, 14]               0\n",
            "          Conv2d-101          [-1, 256, 14, 14]         262,144\n",
            "     BatchNorm2d-102          [-1, 256, 14, 14]             512\n",
            "            ReLU-103          [-1, 256, 14, 14]               0\n",
            "          Conv2d-104          [-1, 256, 14, 14]         589,824\n",
            "     BatchNorm2d-105          [-1, 256, 14, 14]             512\n",
            "            ReLU-106          [-1, 256, 14, 14]               0\n",
            "          Conv2d-107         [-1, 1024, 14, 14]         262,144\n",
            "     BatchNorm2d-108         [-1, 1024, 14, 14]           2,048\n",
            "            ReLU-109         [-1, 1024, 14, 14]               0\n",
            "      Bottleneck-110         [-1, 1024, 14, 14]               0\n",
            "          Conv2d-111          [-1, 256, 14, 14]         262,144\n",
            "     BatchNorm2d-112          [-1, 256, 14, 14]             512\n",
            "            ReLU-113          [-1, 256, 14, 14]               0\n",
            "          Conv2d-114          [-1, 256, 14, 14]         589,824\n",
            "     BatchNorm2d-115          [-1, 256, 14, 14]             512\n",
            "            ReLU-116          [-1, 256, 14, 14]               0\n",
            "          Conv2d-117         [-1, 1024, 14, 14]         262,144\n",
            "     BatchNorm2d-118         [-1, 1024, 14, 14]           2,048\n",
            "            ReLU-119         [-1, 1024, 14, 14]               0\n",
            "      Bottleneck-120         [-1, 1024, 14, 14]               0\n",
            "          Conv2d-121          [-1, 256, 14, 14]         262,144\n",
            "     BatchNorm2d-122          [-1, 256, 14, 14]             512\n",
            "            ReLU-123          [-1, 256, 14, 14]               0\n",
            "          Conv2d-124          [-1, 256, 14, 14]         589,824\n",
            "     BatchNorm2d-125          [-1, 256, 14, 14]             512\n",
            "            ReLU-126          [-1, 256, 14, 14]               0\n",
            "          Conv2d-127         [-1, 1024, 14, 14]         262,144\n",
            "     BatchNorm2d-128         [-1, 1024, 14, 14]           2,048\n",
            "            ReLU-129         [-1, 1024, 14, 14]               0\n",
            "      Bottleneck-130         [-1, 1024, 14, 14]               0\n",
            "          Conv2d-131          [-1, 256, 14, 14]         262,144\n",
            "     BatchNorm2d-132          [-1, 256, 14, 14]             512\n",
            "            ReLU-133          [-1, 256, 14, 14]               0\n",
            "          Conv2d-134          [-1, 256, 14, 14]         589,824\n",
            "     BatchNorm2d-135          [-1, 256, 14, 14]             512\n",
            "            ReLU-136          [-1, 256, 14, 14]               0\n",
            "          Conv2d-137         [-1, 1024, 14, 14]         262,144\n",
            "     BatchNorm2d-138         [-1, 1024, 14, 14]           2,048\n",
            "            ReLU-139         [-1, 1024, 14, 14]               0\n",
            "      Bottleneck-140         [-1, 1024, 14, 14]               0\n",
            "          Conv2d-141          [-1, 512, 14, 14]         524,288\n",
            "     BatchNorm2d-142          [-1, 512, 14, 14]           1,024\n",
            "            ReLU-143          [-1, 512, 14, 14]               0\n",
            "          Conv2d-144            [-1, 512, 7, 7]       2,359,296\n",
            "     BatchNorm2d-145            [-1, 512, 7, 7]           1,024\n",
            "            ReLU-146            [-1, 512, 7, 7]               0\n",
            "          Conv2d-147           [-1, 2048, 7, 7]       1,048,576\n",
            "     BatchNorm2d-148           [-1, 2048, 7, 7]           4,096\n",
            "          Conv2d-149           [-1, 2048, 7, 7]       2,097,152\n",
            "     BatchNorm2d-150           [-1, 2048, 7, 7]           4,096\n",
            "            ReLU-151           [-1, 2048, 7, 7]               0\n",
            "      Bottleneck-152           [-1, 2048, 7, 7]               0\n",
            "          Conv2d-153            [-1, 512, 7, 7]       1,048,576\n",
            "     BatchNorm2d-154            [-1, 512, 7, 7]           1,024\n",
            "            ReLU-155            [-1, 512, 7, 7]               0\n",
            "          Conv2d-156            [-1, 512, 7, 7]       2,359,296\n",
            "     BatchNorm2d-157            [-1, 512, 7, 7]           1,024\n",
            "            ReLU-158            [-1, 512, 7, 7]               0\n",
            "          Conv2d-159           [-1, 2048, 7, 7]       1,048,576\n",
            "     BatchNorm2d-160           [-1, 2048, 7, 7]           4,096\n",
            "            ReLU-161           [-1, 2048, 7, 7]               0\n",
            "      Bottleneck-162           [-1, 2048, 7, 7]               0\n",
            "          Conv2d-163            [-1, 512, 7, 7]       1,048,576\n",
            "     BatchNorm2d-164            [-1, 512, 7, 7]           1,024\n",
            "            ReLU-165            [-1, 512, 7, 7]               0\n",
            "          Conv2d-166            [-1, 512, 7, 7]       2,359,296\n",
            "     BatchNorm2d-167            [-1, 512, 7, 7]           1,024\n",
            "            ReLU-168            [-1, 512, 7, 7]               0\n",
            "          Conv2d-169           [-1, 2048, 7, 7]       1,048,576\n",
            "     BatchNorm2d-170           [-1, 2048, 7, 7]           4,096\n",
            "            ReLU-171           [-1, 2048, 7, 7]               0\n",
            "      Bottleneck-172           [-1, 2048, 7, 7]               0\n",
            "AdaptiveAvgPool2d-173           [-1, 2048, 1, 1]               0\n",
            "          Linear-174                 [-1, 1000]       2,049,000\n",
            "================================================================\n",
            "Total params: 25,557,032\n",
            "Trainable params: 25,557,032\n",
            "Non-trainable params: 0\n",
            "----------------------------------------------------------------\n",
            "Input size (MB): 0.57\n",
            "Forward/backward pass size (MB): 286.56\n",
            "Params size (MB): 97.49\n",
            "Estimated Total Size (MB): 384.62\n",
            "----------------------------------------------------------------\n"
          ]
        }
      ]
    },
    {
      "cell_type": "code",
      "source": [
        "unwrapped_resnet50 = [module for module in resnet_50.modules() if not isinstance(module, torch.nn.modules.container.Sequential) and not isinstance(module, torchvision.models.resnet.ResNet)]\n",
        "param_size = 0\n",
        "counter = 0\n",
        "\n",
        "for module in unwrapped_resnet50:\n",
        "  print(type(module))\n",
        "  counter += 1\n",
        "print(counter)\n",
        "\n",
        "counter = 0\n",
        "for param in resnet_50.parameters():\n",
        "  counter += 1\n",
        "print(counter)"
      ],
      "metadata": {
        "id": "Y-2hpe_Cb5e4",
        "colab": {
          "base_uri": "https://localhost:8080/"
        },
        "outputId": "404c9135-5b97-4f2e-8618-eb5c36b67ad0"
      },
      "execution_count": 88,
      "outputs": [
        {
          "output_type": "stream",
          "name": "stdout",
          "text": [
            "<class 'torch.nn.modules.conv.Conv2d'>\n",
            "<class 'torch.nn.modules.batchnorm.BatchNorm2d'>\n",
            "<class 'torch.nn.modules.activation.ReLU'>\n",
            "<class 'torch.nn.modules.pooling.MaxPool2d'>\n",
            "<class 'torchvision.models.resnet.Bottleneck'>\n",
            "<class 'torch.nn.modules.conv.Conv2d'>\n",
            "<class 'torch.nn.modules.batchnorm.BatchNorm2d'>\n",
            "<class 'torch.nn.modules.conv.Conv2d'>\n",
            "<class 'torch.nn.modules.batchnorm.BatchNorm2d'>\n",
            "<class 'torch.nn.modules.conv.Conv2d'>\n",
            "<class 'torch.nn.modules.batchnorm.BatchNorm2d'>\n",
            "<class 'torch.nn.modules.activation.ReLU'>\n",
            "<class 'torch.nn.modules.conv.Conv2d'>\n",
            "<class 'torch.nn.modules.batchnorm.BatchNorm2d'>\n",
            "<class 'torchvision.models.resnet.Bottleneck'>\n",
            "<class 'torch.nn.modules.conv.Conv2d'>\n",
            "<class 'torch.nn.modules.batchnorm.BatchNorm2d'>\n",
            "<class 'torch.nn.modules.conv.Conv2d'>\n",
            "<class 'torch.nn.modules.batchnorm.BatchNorm2d'>\n",
            "<class 'torch.nn.modules.conv.Conv2d'>\n",
            "<class 'torch.nn.modules.batchnorm.BatchNorm2d'>\n",
            "<class 'torch.nn.modules.activation.ReLU'>\n",
            "<class 'torchvision.models.resnet.Bottleneck'>\n",
            "<class 'torch.nn.modules.conv.Conv2d'>\n",
            "<class 'torch.nn.modules.batchnorm.BatchNorm2d'>\n",
            "<class 'torch.nn.modules.conv.Conv2d'>\n",
            "<class 'torch.nn.modules.batchnorm.BatchNorm2d'>\n",
            "<class 'torch.nn.modules.conv.Conv2d'>\n",
            "<class 'torch.nn.modules.batchnorm.BatchNorm2d'>\n",
            "<class 'torch.nn.modules.activation.ReLU'>\n",
            "<class 'torchvision.models.resnet.Bottleneck'>\n",
            "<class 'torch.nn.modules.conv.Conv2d'>\n",
            "<class 'torch.nn.modules.batchnorm.BatchNorm2d'>\n",
            "<class 'torch.nn.modules.conv.Conv2d'>\n",
            "<class 'torch.nn.modules.batchnorm.BatchNorm2d'>\n",
            "<class 'torch.nn.modules.conv.Conv2d'>\n",
            "<class 'torch.nn.modules.batchnorm.BatchNorm2d'>\n",
            "<class 'torch.nn.modules.activation.ReLU'>\n",
            "<class 'torch.nn.modules.conv.Conv2d'>\n",
            "<class 'torch.nn.modules.batchnorm.BatchNorm2d'>\n",
            "<class 'torchvision.models.resnet.Bottleneck'>\n",
            "<class 'torch.nn.modules.conv.Conv2d'>\n",
            "<class 'torch.nn.modules.batchnorm.BatchNorm2d'>\n",
            "<class 'torch.nn.modules.conv.Conv2d'>\n",
            "<class 'torch.nn.modules.batchnorm.BatchNorm2d'>\n",
            "<class 'torch.nn.modules.conv.Conv2d'>\n",
            "<class 'torch.nn.modules.batchnorm.BatchNorm2d'>\n",
            "<class 'torch.nn.modules.activation.ReLU'>\n",
            "<class 'torchvision.models.resnet.Bottleneck'>\n",
            "<class 'torch.nn.modules.conv.Conv2d'>\n",
            "<class 'torch.nn.modules.batchnorm.BatchNorm2d'>\n",
            "<class 'torch.nn.modules.conv.Conv2d'>\n",
            "<class 'torch.nn.modules.batchnorm.BatchNorm2d'>\n",
            "<class 'torch.nn.modules.conv.Conv2d'>\n",
            "<class 'torch.nn.modules.batchnorm.BatchNorm2d'>\n",
            "<class 'torch.nn.modules.activation.ReLU'>\n",
            "<class 'torchvision.models.resnet.Bottleneck'>\n",
            "<class 'torch.nn.modules.conv.Conv2d'>\n",
            "<class 'torch.nn.modules.batchnorm.BatchNorm2d'>\n",
            "<class 'torch.nn.modules.conv.Conv2d'>\n",
            "<class 'torch.nn.modules.batchnorm.BatchNorm2d'>\n",
            "<class 'torch.nn.modules.conv.Conv2d'>\n",
            "<class 'torch.nn.modules.batchnorm.BatchNorm2d'>\n",
            "<class 'torch.nn.modules.activation.ReLU'>\n",
            "<class 'torchvision.models.resnet.Bottleneck'>\n",
            "<class 'torch.nn.modules.conv.Conv2d'>\n",
            "<class 'torch.nn.modules.batchnorm.BatchNorm2d'>\n",
            "<class 'torch.nn.modules.conv.Conv2d'>\n",
            "<class 'torch.nn.modules.batchnorm.BatchNorm2d'>\n",
            "<class 'torch.nn.modules.conv.Conv2d'>\n",
            "<class 'torch.nn.modules.batchnorm.BatchNorm2d'>\n",
            "<class 'torch.nn.modules.activation.ReLU'>\n",
            "<class 'torch.nn.modules.conv.Conv2d'>\n",
            "<class 'torch.nn.modules.batchnorm.BatchNorm2d'>\n",
            "<class 'torchvision.models.resnet.Bottleneck'>\n",
            "<class 'torch.nn.modules.conv.Conv2d'>\n",
            "<class 'torch.nn.modules.batchnorm.BatchNorm2d'>\n",
            "<class 'torch.nn.modules.conv.Conv2d'>\n",
            "<class 'torch.nn.modules.batchnorm.BatchNorm2d'>\n",
            "<class 'torch.nn.modules.conv.Conv2d'>\n",
            "<class 'torch.nn.modules.batchnorm.BatchNorm2d'>\n",
            "<class 'torch.nn.modules.activation.ReLU'>\n",
            "<class 'torchvision.models.resnet.Bottleneck'>\n",
            "<class 'torch.nn.modules.conv.Conv2d'>\n",
            "<class 'torch.nn.modules.batchnorm.BatchNorm2d'>\n",
            "<class 'torch.nn.modules.conv.Conv2d'>\n",
            "<class 'torch.nn.modules.batchnorm.BatchNorm2d'>\n",
            "<class 'torch.nn.modules.conv.Conv2d'>\n",
            "<class 'torch.nn.modules.batchnorm.BatchNorm2d'>\n",
            "<class 'torch.nn.modules.activation.ReLU'>\n",
            "<class 'torchvision.models.resnet.Bottleneck'>\n",
            "<class 'torch.nn.modules.conv.Conv2d'>\n",
            "<class 'torch.nn.modules.batchnorm.BatchNorm2d'>\n",
            "<class 'torch.nn.modules.conv.Conv2d'>\n",
            "<class 'torch.nn.modules.batchnorm.BatchNorm2d'>\n",
            "<class 'torch.nn.modules.conv.Conv2d'>\n",
            "<class 'torch.nn.modules.batchnorm.BatchNorm2d'>\n",
            "<class 'torch.nn.modules.activation.ReLU'>\n",
            "<class 'torchvision.models.resnet.Bottleneck'>\n",
            "<class 'torch.nn.modules.conv.Conv2d'>\n",
            "<class 'torch.nn.modules.batchnorm.BatchNorm2d'>\n",
            "<class 'torch.nn.modules.conv.Conv2d'>\n",
            "<class 'torch.nn.modules.batchnorm.BatchNorm2d'>\n",
            "<class 'torch.nn.modules.conv.Conv2d'>\n",
            "<class 'torch.nn.modules.batchnorm.BatchNorm2d'>\n",
            "<class 'torch.nn.modules.activation.ReLU'>\n",
            "<class 'torchvision.models.resnet.Bottleneck'>\n",
            "<class 'torch.nn.modules.conv.Conv2d'>\n",
            "<class 'torch.nn.modules.batchnorm.BatchNorm2d'>\n",
            "<class 'torch.nn.modules.conv.Conv2d'>\n",
            "<class 'torch.nn.modules.batchnorm.BatchNorm2d'>\n",
            "<class 'torch.nn.modules.conv.Conv2d'>\n",
            "<class 'torch.nn.modules.batchnorm.BatchNorm2d'>\n",
            "<class 'torch.nn.modules.activation.ReLU'>\n",
            "<class 'torchvision.models.resnet.Bottleneck'>\n",
            "<class 'torch.nn.modules.conv.Conv2d'>\n",
            "<class 'torch.nn.modules.batchnorm.BatchNorm2d'>\n",
            "<class 'torch.nn.modules.conv.Conv2d'>\n",
            "<class 'torch.nn.modules.batchnorm.BatchNorm2d'>\n",
            "<class 'torch.nn.modules.conv.Conv2d'>\n",
            "<class 'torch.nn.modules.batchnorm.BatchNorm2d'>\n",
            "<class 'torch.nn.modules.activation.ReLU'>\n",
            "<class 'torch.nn.modules.conv.Conv2d'>\n",
            "<class 'torch.nn.modules.batchnorm.BatchNorm2d'>\n",
            "<class 'torchvision.models.resnet.Bottleneck'>\n",
            "<class 'torch.nn.modules.conv.Conv2d'>\n",
            "<class 'torch.nn.modules.batchnorm.BatchNorm2d'>\n",
            "<class 'torch.nn.modules.conv.Conv2d'>\n",
            "<class 'torch.nn.modules.batchnorm.BatchNorm2d'>\n",
            "<class 'torch.nn.modules.conv.Conv2d'>\n",
            "<class 'torch.nn.modules.batchnorm.BatchNorm2d'>\n",
            "<class 'torch.nn.modules.activation.ReLU'>\n",
            "<class 'torchvision.models.resnet.Bottleneck'>\n",
            "<class 'torch.nn.modules.conv.Conv2d'>\n",
            "<class 'torch.nn.modules.batchnorm.BatchNorm2d'>\n",
            "<class 'torch.nn.modules.conv.Conv2d'>\n",
            "<class 'torch.nn.modules.batchnorm.BatchNorm2d'>\n",
            "<class 'torch.nn.modules.conv.Conv2d'>\n",
            "<class 'torch.nn.modules.batchnorm.BatchNorm2d'>\n",
            "<class 'torch.nn.modules.activation.ReLU'>\n",
            "<class 'torch.nn.modules.pooling.AdaptiveAvgPool2d'>\n",
            "<class 'torch.nn.modules.linear.Linear'>\n",
            "142\n",
            "161\n"
          ]
        }
      ]
    },
    {
      "cell_type": "code",
      "source": [
        "unwrapped_resnet50 = [module for module in resnet_50.modules() if not isinstance(module, torch.nn.modules.container.Sequential) and not isinstance(module, torchvision.models.resnet.ResNet)]\n",
        "for module in unwrapped_resnet50:\n",
        "  if (type(module) == torch.nn.modules.conv.Conv2d or type(module) == torch.nn.modules.pooling.MaxPool2d):\n",
        "    print(module.kernel_size)\n",
        "    if (type(module.kernel_size) == int):\n",
        "      # handle int case\n",
        "      if (module.kernel_size > 1 and module.stride > 1):\n",
        "        print(module)\n",
        "        print(module.stride)\n",
        "        print('size shrinking')\n",
        "    else:\n",
        "      # handle tuple case\n",
        "      if ((module.kernel_size[0] > 1 or module.kernel_size[1] > 1) and (module.stride[0] > 1 or module.stride[1] > 1)):\n",
        "        print(module)\n",
        "        print(module.stride)\n",
        "        print('size shrinking')\n",
        "    print(\"---------------------\")"
      ],
      "metadata": {
        "colab": {
          "base_uri": "https://localhost:8080/"
        },
        "id": "qxTovHP64N74",
        "outputId": "0286e140-60b0-46c7-ddb6-e7ebfa161266"
      },
      "execution_count": 76,
      "outputs": [
        {
          "output_type": "stream",
          "name": "stdout",
          "text": [
            "(7, 7)\n",
            "Conv2d(3, 64, kernel_size=(7, 7), stride=(2, 2), padding=(3, 3), bias=False)\n",
            "(2, 2)\n",
            "size shrinking\n",
            "---------------------\n",
            "3\n",
            "MaxPool2d(kernel_size=3, stride=2, padding=1, dilation=1, ceil_mode=False)\n",
            "2\n",
            "size shrinking\n",
            "---------------------\n",
            "(1, 1)\n",
            "---------------------\n",
            "(3, 3)\n",
            "---------------------\n",
            "(1, 1)\n",
            "---------------------\n",
            "(1, 1)\n",
            "---------------------\n",
            "(1, 1)\n",
            "---------------------\n",
            "(3, 3)\n",
            "---------------------\n",
            "(1, 1)\n",
            "---------------------\n",
            "(1, 1)\n",
            "---------------------\n",
            "(3, 3)\n",
            "---------------------\n",
            "(1, 1)\n",
            "---------------------\n",
            "(1, 1)\n",
            "---------------------\n",
            "(3, 3)\n",
            "Conv2d(128, 128, kernel_size=(3, 3), stride=(2, 2), padding=(1, 1), bias=False)\n",
            "(2, 2)\n",
            "size shrinking\n",
            "---------------------\n",
            "(1, 1)\n",
            "---------------------\n",
            "(1, 1)\n",
            "---------------------\n",
            "(1, 1)\n",
            "---------------------\n",
            "(3, 3)\n",
            "---------------------\n",
            "(1, 1)\n",
            "---------------------\n",
            "(1, 1)\n",
            "---------------------\n",
            "(3, 3)\n",
            "---------------------\n",
            "(1, 1)\n",
            "---------------------\n",
            "(1, 1)\n",
            "---------------------\n",
            "(3, 3)\n",
            "---------------------\n",
            "(1, 1)\n",
            "---------------------\n",
            "(1, 1)\n",
            "---------------------\n",
            "(3, 3)\n",
            "Conv2d(256, 256, kernel_size=(3, 3), stride=(2, 2), padding=(1, 1), bias=False)\n",
            "(2, 2)\n",
            "size shrinking\n",
            "---------------------\n",
            "(1, 1)\n",
            "---------------------\n",
            "(1, 1)\n",
            "---------------------\n",
            "(1, 1)\n",
            "---------------------\n",
            "(3, 3)\n",
            "---------------------\n",
            "(1, 1)\n",
            "---------------------\n",
            "(1, 1)\n",
            "---------------------\n",
            "(3, 3)\n",
            "---------------------\n",
            "(1, 1)\n",
            "---------------------\n",
            "(1, 1)\n",
            "---------------------\n",
            "(3, 3)\n",
            "---------------------\n",
            "(1, 1)\n",
            "---------------------\n",
            "(1, 1)\n",
            "---------------------\n",
            "(3, 3)\n",
            "---------------------\n",
            "(1, 1)\n",
            "---------------------\n",
            "(1, 1)\n",
            "---------------------\n",
            "(3, 3)\n",
            "---------------------\n",
            "(1, 1)\n",
            "---------------------\n",
            "(1, 1)\n",
            "---------------------\n",
            "(3, 3)\n",
            "Conv2d(512, 512, kernel_size=(3, 3), stride=(2, 2), padding=(1, 1), bias=False)\n",
            "(2, 2)\n",
            "size shrinking\n",
            "---------------------\n",
            "(1, 1)\n",
            "---------------------\n",
            "(1, 1)\n",
            "---------------------\n",
            "(1, 1)\n",
            "---------------------\n",
            "(3, 3)\n",
            "---------------------\n",
            "(1, 1)\n",
            "---------------------\n",
            "(1, 1)\n",
            "---------------------\n",
            "(3, 3)\n",
            "---------------------\n",
            "(1, 1)\n",
            "---------------------\n"
          ]
        }
      ]
    },
    {
      "cell_type": "code",
      "source": [
        "evaluator = CostEvaluator();"
      ],
      "metadata": {
        "id": "r88TDRCjwR_t"
      },
      "execution_count": 77,
      "outputs": []
    },
    {
      "cell_type": "code",
      "source": [
        "resnet50_mem = evaluator.memory_size_evaluator(resnet_50)\n",
        "# consider running resnet50 on Cortex A76 with 3GHz and 16FLOPs for single-point precision\n",
        "a76_flops = 16 * 3 * 10**9\n",
        "jetson_nx_flops = 1.33 * 10**(12) # 1.33 TFLOPs\n",
        "rtx_2080_flops = 13.45 * 10**(12) # 13.45 TFLOPs\n",
        "gtx_1080_flops = 9 * 10**(12) # 9 TFLOPs\n",
        "resnet50_flops = evaluator.flops_evaluator(resnet_50, 3, 224, 224)\n",
        "resnet50_mac = evaluator.mac_evaluator(resnet_50, 224, 224)\n",
        "resnet50_inference_a76 = evaluator.inference_time_evaluator(a76_flops, 'Cortex A76', resnet_50, 3, 224, 224)\n",
        "resnet50_inference_nx = evaluator.inference_time_evaluator(jetson_nx_flops, 'Jetson Xavier NX', resnet_50, 3, 224, 224)\n",
        "resnet50_inference_rtx2080 = evaluator.inference_time_evaluator(rtx_2080_flops, 'RTX 2080 GPU', resnet_50, 3, 224, 224)\n",
        "resnet50_inference_gtx1080 = evaluator.inference_time_evaluator(gtx_1080_flops, 'GTX 1080 GPU', resnet_50, 3, 224, 224)"
      ],
      "metadata": {
        "colab": {
          "base_uri": "https://localhost:8080/"
        },
        "id": "e1F5nM_M_O4p",
        "outputId": "4b46697d-2506-4d7f-d0bf-aa5b670d3775"
      },
      "execution_count": 78,
      "outputs": [
        {
          "output_type": "stream",
          "name": "stdout",
          "text": [
            "model size: 97.695MB\n",
            "total FLOPs: 10482770079.000 = 10.482770079G\n",
            "total MACCs: 4087136256.000 = 4.087136256G\n",
            "starting inference time analysis...\n",
            "total FLOPs: 10482770079.000 = 10.482770079G\n",
            "total inference time: 0.218s with Cortex A76\n",
            "starting inference time analysis...\n",
            "total FLOPs: 10482770079.000 = 10.482770079G\n",
            "total inference time: 0.008s with Jetson Xavier NX\n",
            "starting inference time analysis...\n",
            "total FLOPs: 10482770079.000 = 10.482770079G\n",
            "total inference time: 0.001s with RTX 2080 GPU\n",
            "starting inference time analysis...\n",
            "total FLOPs: 10482770079.000 = 10.482770079G\n",
            "total inference time: 0.001s with GTX 1080 GPU\n"
          ]
        }
      ]
    },
    {
      "cell_type": "markdown",
      "source": [
        "# Dynamically Gated ResNet_50 (SkipNet) Cost Estimation"
      ],
      "metadata": {
        "id": "c3e5tv2q9uyM"
      }
    },
    {
      "cell_type": "code",
      "source": [
        "!git clone https://github.com/ucbdrive/skipnet.git"
      ],
      "metadata": {
        "colab": {
          "base_uri": "https://localhost:8080/"
        },
        "id": "wDALKNKH961h",
        "outputId": "c960dee2-5a48-49b6-ae74-8404aff72895"
      },
      "execution_count": 2,
      "outputs": [
        {
          "output_type": "stream",
          "name": "stdout",
          "text": [
            "Cloning into 'skipnet'...\n",
            "remote: Enumerating objects: 261, done.\u001b[K\n",
            "remote: Total 261 (delta 0), reused 0 (delta 0), pack-reused 261\u001b[K\n",
            "Receiving objects: 100% (261/261), 1.69 MiB | 17.61 MiB/s, done.\n",
            "Resolving deltas: 100% (123/123), done.\n"
          ]
        }
      ]
    },
    {
      "cell_type": "code",
      "source": [
        "!curl 'http://people.eecs.berkeley.edu/~xinw/skipnet/resnet-50-rnn-sp-imagenet.pth.tar'"
      ],
      "metadata": {
        "colab": {
          "base_uri": "https://localhost:8080/"
        },
        "id": "MS9wkpReBh_L",
        "outputId": "7c434a37-95ce-4dc9-d920-cbde7d8ea90e"
      },
      "execution_count": 15,
      "outputs": [
        {
          "output_type": "stream",
          "name": "stdout",
          "text": [
            "Warning: Binary output can mess up your terminal. Use \"--output -\" to tell \n",
            "Warning: curl to output it to your terminal anyway, or consider \"--output \n",
            "Warning: <FILE>\" to save to a file.\n"
          ]
        }
      ]
    },
    {
      "cell_type": "code",
      "source": [
        "!curl \"http://people.eecs.berkeley.edu/~xinw/skipnet/resnet-50-rnn-sp-imagenet.pth.tar\" \\\n",
        "  -o resnet-50-rnn-sp-imagenet.pth.tar"
      ],
      "metadata": {
        "colab": {
          "base_uri": "https://localhost:8080/"
        },
        "id": "KxQa1LD5KAqx",
        "outputId": "5b6f433c-eced-4762-f1a1-837f1607d0f1"
      },
      "execution_count": 28,
      "outputs": [
        {
          "output_type": "stream",
          "name": "stdout",
          "text": [
            "  % Total    % Received % Xferd  Average Speed   Time    Time     Time  Current\n",
            "                                 Dload  Upload   Total   Spent    Left  Speed\n",
            "100 98.3M  100 98.3M    0     0  71.5M      0  0:00:01  0:00:01 --:--:-- 71.5M\n"
          ]
        }
      ]
    },
    {
      "cell_type": "code",
      "source": [
        "from skipnet.imagenet import models"
      ],
      "metadata": {
        "id": "nfL5E6KRG4hT"
      },
      "execution_count": 21,
      "outputs": []
    },
    {
      "cell_type": "code",
      "source": [
        "from pkgutil import iter_modules\n",
        "\n",
        "def list_submodules(module):\n",
        "    for submodule in iter_modules(module.__path__):\n",
        "        print(submodule.name)\n",
        "\n",
        "list_submodules(skipnet.imagenet)"
      ],
      "metadata": {
        "colab": {
          "base_uri": "https://localhost:8080/"
        },
        "id": "MItyQD4kLQLN",
        "outputId": "2bd7e960-9356-437d-9021-de645c3f15b0"
      },
      "execution_count": 23,
      "outputs": [
        {
          "output_type": "stream",
          "name": "stdout",
          "text": [
            "models\n",
            "train_base\n",
            "train_rl\n",
            "train_sp\n"
          ]
        }
      ]
    },
    {
      "cell_type": "code",
      "source": [
        "rnn_gate_50 = models.imagenet_rnn_gate_50(pretrained=True)"
      ],
      "metadata": {
        "id": "I7HwsNyKL8CD"
      },
      "execution_count": 24,
      "outputs": []
    },
    {
      "cell_type": "code",
      "source": [
        "unwrapped_rnn_gate_50 = [module for module in rnn_gate_50.modules() if not isinstance(module, torch.nn.modules.container.Sequential) and not isinstance(module, torchvision.models.resnet.ResNet)]\n",
        "for module in unwrapped_rnn_gate_50:\n",
        "  if (type(module) == torch.nn.modules.conv.Conv2d or type(module) == torch.nn.modules.pooling.MaxPool2d):\n",
        "    print(module.kernel_size)\n",
        "    if (type(module.kernel_size) == int):\n",
        "      # handle int case\n",
        "      if (module.kernel_size > 1 and module.stride > 1):\n",
        "        print(module)\n",
        "        print(module.stride)\n",
        "        print('size shrinking')\n",
        "    else:\n",
        "      # handle tuple case\n",
        "      if ((module.kernel_size[0] > 1 or module.kernel_size[1] > 1) and (module.stride[0] > 1 or module.stride[1] > 1)):\n",
        "        print(module)\n",
        "        print(module.stride)\n",
        "        print('size shrinking')\n",
        "    print(\"---------------------\")"
      ],
      "metadata": {
        "colab": {
          "base_uri": "https://localhost:8080/"
        },
        "id": "RUgBOGvKFl3C",
        "outputId": "f27ed61c-2e1c-441c-9d16-c8b5533f9626"
      },
      "execution_count": 87,
      "outputs": [
        {
          "output_type": "stream",
          "name": "stdout",
          "text": [
            "(7, 7)\n",
            "Conv2d(3, 64, kernel_size=(7, 7), stride=(2, 2), padding=(3, 3), bias=False)\n",
            "(2, 2)\n",
            "size shrinking\n",
            "---------------------\n",
            "3\n",
            "MaxPool2d(kernel_size=3, stride=2, padding=1, dilation=1, ceil_mode=False)\n",
            "2\n",
            "size shrinking\n",
            "---------------------\n",
            "(1, 1)\n",
            "---------------------\n",
            "(1, 1)\n",
            "---------------------\n",
            "(3, 3)\n",
            "---------------------\n",
            "(1, 1)\n",
            "---------------------\n",
            "(1, 1)\n",
            "---------------------\n",
            "(1, 1)\n",
            "---------------------\n",
            "(3, 3)\n",
            "---------------------\n",
            "(1, 1)\n",
            "---------------------\n",
            "(1, 1)\n",
            "---------------------\n",
            "(1, 1)\n",
            "---------------------\n",
            "(3, 3)\n",
            "---------------------\n",
            "(1, 1)\n",
            "---------------------\n",
            "(1, 1)\n",
            "---------------------\n",
            "(1, 1)\n",
            "---------------------\n",
            "(1, 1)\n",
            "---------------------\n",
            "(3, 3)\n",
            "Conv2d(128, 128, kernel_size=(3, 3), stride=(2, 2), padding=(1, 1), bias=False)\n",
            "(2, 2)\n",
            "size shrinking\n",
            "---------------------\n",
            "(1, 1)\n",
            "---------------------\n",
            "(1, 1)\n",
            "---------------------\n",
            "(1, 1)\n",
            "---------------------\n",
            "(3, 3)\n",
            "---------------------\n",
            "(1, 1)\n",
            "---------------------\n",
            "(1, 1)\n",
            "---------------------\n",
            "(1, 1)\n",
            "---------------------\n",
            "(3, 3)\n",
            "---------------------\n",
            "(1, 1)\n",
            "---------------------\n",
            "(1, 1)\n",
            "---------------------\n",
            "(1, 1)\n",
            "---------------------\n",
            "(3, 3)\n",
            "---------------------\n",
            "(1, 1)\n",
            "---------------------\n",
            "(1, 1)\n",
            "---------------------\n",
            "(1, 1)\n",
            "---------------------\n",
            "(1, 1)\n",
            "---------------------\n",
            "(3, 3)\n",
            "Conv2d(256, 256, kernel_size=(3, 3), stride=(2, 2), padding=(1, 1), bias=False)\n",
            "(2, 2)\n",
            "size shrinking\n",
            "---------------------\n",
            "(1, 1)\n",
            "---------------------\n",
            "(1, 1)\n",
            "---------------------\n",
            "(1, 1)\n",
            "---------------------\n",
            "(3, 3)\n",
            "---------------------\n",
            "(1, 1)\n",
            "---------------------\n",
            "(1, 1)\n",
            "---------------------\n",
            "(1, 1)\n",
            "---------------------\n",
            "(3, 3)\n",
            "---------------------\n",
            "(1, 1)\n",
            "---------------------\n",
            "(1, 1)\n",
            "---------------------\n",
            "(1, 1)\n",
            "---------------------\n",
            "(3, 3)\n",
            "---------------------\n",
            "(1, 1)\n",
            "---------------------\n",
            "(1, 1)\n",
            "---------------------\n",
            "(1, 1)\n",
            "---------------------\n",
            "(3, 3)\n",
            "---------------------\n",
            "(1, 1)\n",
            "---------------------\n",
            "(1, 1)\n",
            "---------------------\n",
            "(1, 1)\n",
            "---------------------\n",
            "(3, 3)\n",
            "---------------------\n",
            "(1, 1)\n",
            "---------------------\n",
            "(1, 1)\n",
            "---------------------\n",
            "(1, 1)\n",
            "---------------------\n",
            "(1, 1)\n",
            "---------------------\n",
            "(3, 3)\n",
            "Conv2d(512, 512, kernel_size=(3, 3), stride=(2, 2), padding=(1, 1), bias=False)\n",
            "(2, 2)\n",
            "size shrinking\n",
            "---------------------\n",
            "(1, 1)\n",
            "---------------------\n",
            "(1, 1)\n",
            "---------------------\n",
            "(1, 1)\n",
            "---------------------\n",
            "(3, 3)\n",
            "---------------------\n",
            "(1, 1)\n",
            "---------------------\n",
            "(1, 1)\n",
            "---------------------\n",
            "(1, 1)\n",
            "---------------------\n",
            "(3, 3)\n",
            "---------------------\n",
            "(1, 1)\n",
            "---------------------\n",
            "(1, 1)\n",
            "---------------------\n",
            "(1, 1)\n",
            "---------------------\n"
          ]
        }
      ]
    },
    {
      "cell_type": "code",
      "source": [
        "evaluator = CostEvaluator();"
      ],
      "metadata": {
        "id": "9FfqHta6Qe-9"
      },
      "execution_count": 72,
      "outputs": []
    },
    {
      "cell_type": "code",
      "source": [
        "rnn_gate_50_mem = evaluator.memory_size_evaluator(rnn_gate_50)\n",
        "# consider running resnet50 on Cortex A76 with 3GHz and 16FLOPs for single-point precision\n",
        "a76_flops = 16 * 3 * 10**9\n",
        "jetson_nx_flops = 1.33 * 10**(12) # 1.33 TFLOPs\n",
        "rtx_2080_flops = 13.45 * 10**(12) # 13.45 TFLOPs\n",
        "gtx_1080_flops = 9 * 10**(12) # 9 TFLOPs\n",
        "rnn_gate_50_flops = evaluator.flops_evaluator(rnn_gate_50, 3, 224, 224)\n",
        "rnn_gate_50_mac = evaluator.mac_evaluator(rnn_gate_50, 224, 224)\n",
        "rnn_gate_50_inference_a76 = evaluator.inference_time_evaluator(a76_flops, 'Cortex A76', rnn_gate_50, 3, 224, 224)\n",
        "rnn_gate_50_inference_nx = evaluator.inference_time_evaluator(jetson_nx_flops, 'Jetson Xavier NX', rnn_gate_50, 3, 224, 224)\n",
        "rnn_gate_50_inference_rtx2080 = evaluator.inference_time_evaluator(rtx_2080_flops, 'RTX 2080 GPU', rnn_gate_50, 3, 224, 224)\n",
        "rnn_gate_50_inference_gtx1080 = evaluator.inference_time_evaluator(gtx_1080_flops, 'GTX 1080 GPU', rnn_gate_50, 3, 224, 224)"
      ],
      "metadata": {
        "colab": {
          "base_uri": "https://localhost:8080/"
        },
        "id": "6RniFEarFsvx",
        "outputId": "bc92222e-a3ac-45c3-d52d-708b6811b05e"
      },
      "execution_count": 73,
      "outputs": [
        {
          "output_type": "stream",
          "name": "stdout",
          "text": [
            "model size: 98.276MB\n",
            "total FLOPs: 11479806056.000 = 11.479806056G\n",
            "total MACCs: 5067174378.000 = 5.067174378G\n",
            "starting inference time analysis...\n",
            "total FLOPs: 11479806056.000 = 11.479806056G\n",
            "total inference time: 0.239s with Cortex A76\n",
            "starting inference time analysis...\n",
            "total FLOPs: 11479806056.000 = 11.479806056G\n",
            "total inference time: 0.009s with Jetson Xavier NX\n",
            "starting inference time analysis...\n",
            "total FLOPs: 11479806056.000 = 11.479806056G\n",
            "total inference time: 0.001s with RTX 2080 GPU\n",
            "starting inference time analysis...\n",
            "total FLOPs: 11479806056.000 = 11.479806056G\n",
            "total inference time: 0.001s with GTX 1080 GPU\n"
          ]
        }
      ]
    },
    {
      "cell_type": "markdown",
      "source": [
        "# OFA Cost Estimation (MobileNetV3 as the backbone NN)"
      ],
      "metadata": {
        "id": "ErQ7P6c6SbfE"
      }
    },
    {
      "cell_type": "markdown",
      "source": [
        "## Full Model"
      ],
      "metadata": {
        "id": "vonVn1_0aJya"
      }
    },
    {
      "cell_type": "code",
      "source": [
        "print('Installing thop (FLOPs counter) ...')\n",
        "! pip install thop 1>/dev/null\n",
        "# ofa is a package containing training code, pretrained specialized models and inference code for the once-for-all networks.\n",
        "print('Installing OFA...')\n",
        "! pip install ofa 1>/dev/null\n",
        "# tqdm is a package for displaying a progress bar.\n",
        "print('Installing tqdm (progress bar) ...')\n",
        "! pip install tqdm 1>/dev/null\n",
        "print('Installing matplotlib...')\n",
        "! pip install matplotlib 1>/dev/null"
      ],
      "metadata": {
        "colab": {
          "base_uri": "https://localhost:8080/"
        },
        "id": "WY_y6F4cVSu1",
        "outputId": "4e3a2edc-3dc7-4dfe-9f40-27a69fb234ca"
      },
      "execution_count": 80,
      "outputs": [
        {
          "output_type": "stream",
          "name": "stdout",
          "text": [
            "Installing thop (FLOPs counter) ...\n",
            "Installing OFA...\n",
            "Installing tqdm (progress bar) ...\n",
            "Installing matplotlib...\n"
          ]
        }
      ]
    },
    {
      "cell_type": "code",
      "source": [
        "from ofa.model_zoo import ofa_net\n",
        "from ofa.utils import download_url"
      ],
      "metadata": {
        "id": "z-epRADOXqXp"
      },
      "execution_count": 81,
      "outputs": []
    },
    {
      "cell_type": "code",
      "source": [
        "from ofa.tutorial import AccuracyPredictor, FLOPsTable, LatencyTable, EvolutionFinder\n",
        "from ofa.tutorial import evaluate_ofa_subnet, evaluate_ofa_specialized"
      ],
      "metadata": {
        "id": "VRqIi3R-X4U1"
      },
      "execution_count": 82,
      "outputs": []
    },
    {
      "cell_type": "code",
      "source": [
        "ofa_network = ofa_net('ofa_mbv3_d234_e346_k357_w1.2', pretrained=True)\n",
        "print('The OFA Network is ready.')"
      ],
      "metadata": {
        "colab": {
          "base_uri": "https://localhost:8080/"
        },
        "id": "dylqnYS2YUVZ",
        "outputId": "658cc24b-0ecb-4983-b924-7652e2f21332"
      },
      "execution_count": 83,
      "outputs": [
        {
          "output_type": "stream",
          "name": "stderr",
          "text": [
            "Downloading: \"https://hanlab.mit.edu/files/OnceForAll/ofa_nets/ofa_mbv3_d234_e346_k357_w1.2\" to .torch/ofa_nets/ofa_mbv3_d234_e346_k357_w1.2\n"
          ]
        },
        {
          "output_type": "stream",
          "name": "stdout",
          "text": [
            "The OFA Network is ready.\n"
          ]
        }
      ]
    },
    {
      "cell_type": "code",
      "source": [
        "unwrapped_ofa_network = [module for module in ofa_network.modules() if not isinstance(module, torch.nn.modules.container.Sequential) and not isinstance(module, torchvision.models.resnet.ResNet)]\n",
        "for module in unwrapped_ofa_network:\n",
        "  if (type(module) == torch.nn.modules.conv.Conv2d or type(module) == torch.nn.modules.pooling.MaxPool2d):\n",
        "    print(module.kernel_size)\n",
        "    if (type(module.kernel_size) == int):\n",
        "      # handle int case\n",
        "      if (module.kernel_size > 1 and module.stride > 1):\n",
        "        print(module)\n",
        "        print(module.stride)\n",
        "        print('size shrinking')\n",
        "    else:\n",
        "      # handle tuple case\n",
        "      if ((module.kernel_size[0] > 1 or module.kernel_size[1] > 1) and (module.stride[0] > 1 or module.stride[1] > 1)):\n",
        "        print(module)\n",
        "        print(module.stride)\n",
        "        print('size shrinking')\n",
        "    print(\"---------------------\")"
      ],
      "metadata": {
        "colab": {
          "base_uri": "https://localhost:8080/"
        },
        "id": "orcLEaC4YfJX",
        "outputId": "9edb13ba-541a-4f18-e008-6ae08a3c5e12"
      },
      "execution_count": 90,
      "outputs": [
        {
          "output_type": "stream",
          "name": "stdout",
          "text": [
            "(3, 3)\n",
            "Conv2d(3, 24, kernel_size=(3, 3), stride=(2, 2), padding=(1, 1), bias=False)\n",
            "(2, 2)\n",
            "size shrinking\n",
            "---------------------\n",
            "(3, 3)\n",
            "---------------------\n",
            "(1, 1)\n",
            "---------------------\n",
            "(1, 1)\n",
            "---------------------\n",
            "(7, 7)\n",
            "Conv2d(144, 144, kernel_size=(7, 7), stride=(2, 2), groups=144, bias=False)\n",
            "(2, 2)\n",
            "size shrinking\n",
            "---------------------\n",
            "(1, 1)\n",
            "---------------------\n",
            "(1, 1)\n",
            "---------------------\n",
            "(7, 7)\n",
            "---------------------\n",
            "(1, 1)\n",
            "---------------------\n",
            "(1, 1)\n",
            "---------------------\n",
            "(7, 7)\n",
            "---------------------\n",
            "(1, 1)\n",
            "---------------------\n",
            "(1, 1)\n",
            "---------------------\n",
            "(7, 7)\n",
            "---------------------\n",
            "(1, 1)\n",
            "---------------------\n",
            "(1, 1)\n",
            "---------------------\n",
            "(7, 7)\n",
            "Conv2d(192, 192, kernel_size=(7, 7), stride=(2, 2), groups=192, bias=False)\n",
            "(2, 2)\n",
            "size shrinking\n",
            "---------------------\n",
            "(1, 1)\n",
            "---------------------\n",
            "(1, 1)\n",
            "---------------------\n",
            "(1, 1)\n",
            "---------------------\n",
            "(1, 1)\n",
            "---------------------\n",
            "(7, 7)\n",
            "---------------------\n",
            "(1, 1)\n",
            "---------------------\n",
            "(1, 1)\n",
            "---------------------\n",
            "(1, 1)\n",
            "---------------------\n",
            "(1, 1)\n",
            "---------------------\n",
            "(7, 7)\n",
            "---------------------\n",
            "(1, 1)\n",
            "---------------------\n",
            "(1, 1)\n",
            "---------------------\n",
            "(1, 1)\n",
            "---------------------\n",
            "(1, 1)\n",
            "---------------------\n",
            "(7, 7)\n",
            "---------------------\n",
            "(1, 1)\n",
            "---------------------\n",
            "(1, 1)\n",
            "---------------------\n",
            "(1, 1)\n",
            "---------------------\n",
            "(1, 1)\n",
            "---------------------\n",
            "(7, 7)\n",
            "Conv2d(288, 288, kernel_size=(7, 7), stride=(2, 2), groups=288, bias=False)\n",
            "(2, 2)\n",
            "size shrinking\n",
            "---------------------\n",
            "(1, 1)\n",
            "---------------------\n",
            "(1, 1)\n",
            "---------------------\n",
            "(7, 7)\n",
            "---------------------\n",
            "(1, 1)\n",
            "---------------------\n",
            "(1, 1)\n",
            "---------------------\n",
            "(7, 7)\n",
            "---------------------\n",
            "(1, 1)\n",
            "---------------------\n",
            "(1, 1)\n",
            "---------------------\n",
            "(7, 7)\n",
            "---------------------\n",
            "(1, 1)\n",
            "---------------------\n",
            "(1, 1)\n",
            "---------------------\n",
            "(7, 7)\n",
            "---------------------\n",
            "(1, 1)\n",
            "---------------------\n",
            "(1, 1)\n",
            "---------------------\n",
            "(1, 1)\n",
            "---------------------\n",
            "(1, 1)\n",
            "---------------------\n",
            "(7, 7)\n",
            "---------------------\n",
            "(1, 1)\n",
            "---------------------\n",
            "(1, 1)\n",
            "---------------------\n",
            "(1, 1)\n",
            "---------------------\n",
            "(1, 1)\n",
            "---------------------\n",
            "(7, 7)\n",
            "---------------------\n",
            "(1, 1)\n",
            "---------------------\n",
            "(1, 1)\n",
            "---------------------\n",
            "(1, 1)\n",
            "---------------------\n",
            "(1, 1)\n",
            "---------------------\n",
            "(7, 7)\n",
            "---------------------\n",
            "(1, 1)\n",
            "---------------------\n",
            "(1, 1)\n",
            "---------------------\n",
            "(1, 1)\n",
            "---------------------\n",
            "(1, 1)\n",
            "---------------------\n",
            "(7, 7)\n",
            "Conv2d(816, 816, kernel_size=(7, 7), stride=(2, 2), groups=816, bias=False)\n",
            "(2, 2)\n",
            "size shrinking\n",
            "---------------------\n",
            "(1, 1)\n",
            "---------------------\n",
            "(1, 1)\n",
            "---------------------\n",
            "(1, 1)\n",
            "---------------------\n",
            "(1, 1)\n",
            "---------------------\n",
            "(7, 7)\n",
            "---------------------\n",
            "(1, 1)\n",
            "---------------------\n",
            "(1, 1)\n",
            "---------------------\n",
            "(1, 1)\n",
            "---------------------\n",
            "(1, 1)\n",
            "---------------------\n",
            "(7, 7)\n",
            "---------------------\n",
            "(1, 1)\n",
            "---------------------\n",
            "(1, 1)\n",
            "---------------------\n",
            "(1, 1)\n",
            "---------------------\n",
            "(1, 1)\n",
            "---------------------\n",
            "(7, 7)\n",
            "---------------------\n",
            "(1, 1)\n",
            "---------------------\n",
            "(1, 1)\n",
            "---------------------\n",
            "(1, 1)\n",
            "---------------------\n",
            "(1, 1)\n",
            "---------------------\n",
            "(1, 1)\n",
            "---------------------\n"
          ]
        }
      ]
    },
    {
      "cell_type": "code",
      "source": [
        "evaluator = CostEvaluator();"
      ],
      "metadata": {
        "id": "VNxan7sDZ4wl"
      },
      "execution_count": null,
      "outputs": []
    },
    {
      "cell_type": "code",
      "source": [
        "ofa_network_mem = evaluator.memory_size_evaluator(ofa_network)\n",
        "# consider running resnet50 on Cortex A76 with 3GHz and 16FLOPs for single-point precision\n",
        "a76_flops = 16 * 3 * 10**9\n",
        "jetson_nx_flops = 1.33 * 10**(12) # 1.33 TFLOPs\n",
        "rtx_2080_flops = 13.45 * 10**(12) # 13.45 TFLOPs\n",
        "gtx_1080_flops = 9 * 10**(12) # 9 TFLOPs\n",
        "ofa_network_flops = evaluator.flops_evaluator(ofa_network, 3, 224, 224)\n",
        "ofa_network_mac = evaluator.mac_evaluator(ofa_network, 224, 224)\n",
        "ofa_network_inference_a76 = evaluator.inference_time_evaluator(a76_flops, 'Cortex A76', ofa_network, 3, 224, 224)\n",
        "ofa_network_inference_nx = evaluator.inference_time_evaluator(jetson_nx_flops, 'Jetson Xavier NX', ofa_network, 3, 224, 224)\n",
        "ofa_network_inference_rtx2080 = evaluator.inference_time_evaluator(rtx_2080_flops, 'RTX 2080 GPU', ofa_network, 3, 224, 224)\n",
        "ofa_network_inference_gtx1080 = evaluator.inference_time_evaluator(gtx_1080_flops, 'GTX 1080 GPU', ofa_network, 3, 224, 224)"
      ],
      "metadata": {
        "colab": {
          "base_uri": "https://localhost:8080/"
        },
        "id": "wGe0PlweYven",
        "outputId": "0ba4c01c-677f-431a-ce16-0b4137e34e45"
      },
      "execution_count": 91,
      "outputs": [
        {
          "output_type": "stream",
          "name": "stdout",
          "text": [
            "model size: 41.072MB\n",
            "total FLOPs: 76392489792.000 = 76.392489792G\n",
            "total MACCs: 76273854720.000 = 76.27385472G\n",
            "starting inference time analysis...\n",
            "total FLOPs: 76392489792.000 = 76.392489792G\n",
            "total inference time: 1.592s with Cortex A76\n",
            "starting inference time analysis...\n",
            "total FLOPs: 76392489792.000 = 76.392489792G\n",
            "total inference time: 0.057s with Jetson Xavier NX\n",
            "starting inference time analysis...\n",
            "total FLOPs: 76392489792.000 = 76.392489792G\n",
            "total inference time: 0.006s with RTX 2080 GPU\n",
            "starting inference time analysis...\n",
            "total FLOPs: 76392489792.000 = 76.392489792G\n",
            "total inference time: 0.008s with GTX 1080 GPU\n"
          ]
        }
      ]
    },
    {
      "cell_type": "markdown",
      "source": [
        "## Subnet for SamSung Note10"
      ],
      "metadata": {
        "id": "zufkCVfDaNCL"
      }
    },
    {
      "cell_type": "markdown",
      "source": [
        "ImageNet Dataset:"
      ],
      "metadata": {
        "id": "UL6JdG9Ga9ji"
      }
    },
    {
      "cell_type": "code",
      "source": [
        "if cuda_available:\n",
        "    # path to the ImageNet dataset\n",
        "    print(\"Please input the path to the ImageNet dataset.\\n\")\n",
        "    imagenet_data_path = input()\n",
        "\n",
        "    # if 'imagenet_data_path' is empty, download a subset of ImageNet containing 2000 images (~250M) for test\n",
        "    if not os.path.isdir(imagenet_data_path):\n",
        "        os.makedirs(imagenet_data_path, exist_ok=True)\n",
        "        download_url('https://hanlab.mit.edu/files/OnceForAll/ofa_cvpr_tutorial/imagenet_1k.zip', model_dir='data')\n",
        "        ! cd data && unzip imagenet_1k 1>/dev/null && cd ..\n",
        "        ! cp -r data/imagenet_1k/* $imagenet_data_path\n",
        "        ! rm -rf data\n",
        "        print('%s is empty. Download a subset of ImageNet for test.' % imagenet_data_path)\n",
        "\n",
        "    print('The ImageNet dataset files are ready.')\n",
        "else:\n",
        "    print('Since GPU is not found in the environment, we skip all scripts related to ImageNet evaluation.')"
      ],
      "metadata": {
        "colab": {
          "base_uri": "https://localhost:8080/"
        },
        "id": "l72wgBboazxu",
        "outputId": "d51211bd-5355-4ab2-858a-a35a5ccc5318"
      },
      "execution_count": 97,
      "outputs": [
        {
          "name": "stdout",
          "output_type": "stream",
          "text": [
            "Please input the path to the ImageNet dataset.\n",
            "\n",
            "/home/dataset\n"
          ]
        },
        {
          "output_type": "stream",
          "name": "stderr",
          "text": [
            "Downloading: \"https://hanlab.mit.edu/files/OnceForAll/ofa_cvpr_tutorial/imagenet_1k.zip\" to data/imagenet_1k.zip\n"
          ]
        },
        {
          "output_type": "stream",
          "name": "stdout",
          "text": [
            "/home/dataset is empty. Download a subset of ImageNet for test.\n",
            "The ImageNet dataset files are ready.\n"
          ]
        }
      ]
    },
    {
      "cell_type": "markdown",
      "source": [
        "Dataloader:"
      ],
      "metadata": {
        "id": "Nx63u4KHbBCs"
      }
    },
    {
      "cell_type": "code",
      "source": [
        "if cuda_available:\n",
        "    # The following function build the data transforms for test\n",
        "    def build_val_transform(size):\n",
        "        return transforms.Compose([\n",
        "            transforms.Resize(int(math.ceil(size / 0.875))),\n",
        "            transforms.CenterCrop(size),\n",
        "            transforms.ToTensor(),\n",
        "            transforms.Normalize(\n",
        "                mean=[0.485, 0.456, 0.406],\n",
        "                std=[0.229, 0.224, 0.225]\n",
        "            ),\n",
        "        ])\n",
        "\n",
        "    data_loader = torch.utils.data.DataLoader(\n",
        "        datasets.ImageFolder(\n",
        "            root=os.path.join(imagenet_data_path, 'val'),\n",
        "            transform=build_val_transform(224)\n",
        "        ),\n",
        "        batch_size=250,  # test batch size\n",
        "        shuffle=True,\n",
        "        num_workers=16,  # number of workers for the data loader\n",
        "        pin_memory=True,\n",
        "        drop_last=False,\n",
        "    )\n",
        "    print('The ImageNet dataloader is ready.')\n",
        "else:\n",
        "    data_loader = None\n",
        "    print('Since GPU is not found in the environment, we skip all scripts related to ImageNet evaluation.')"
      ],
      "metadata": {
        "colab": {
          "base_uri": "https://localhost:8080/"
        },
        "id": "xNqCyjsua5L8",
        "outputId": "91a35f7c-cfea-4e9b-e423-3dd029edad2b"
      },
      "execution_count": 98,
      "outputs": [
        {
          "output_type": "stream",
          "name": "stdout",
          "text": [
            "The ImageNet dataloader is ready.\n"
          ]
        },
        {
          "output_type": "stream",
          "name": "stderr",
          "text": [
            "/usr/local/lib/python3.7/dist-packages/torch/utils/data/dataloader.py:490: UserWarning: This DataLoader will create 16 worker processes in total. Our suggested max number of worker in current system is 2, which is smaller than what this DataLoader is going to create. Please be aware that excessive worker creation might get DataLoader running slow or even freeze, lower the worker number to avoid potential slowness/freeze if necessary.\n",
            "  cpuset_checked))\n"
          ]
        }
      ]
    },
    {
      "cell_type": "code",
      "source": [
        "# accuracy predictor\n",
        "accuracy_predictor = AccuracyPredictor(\n",
        "    pretrained=True,\n",
        "    device='cuda:0' if cuda_available else 'cpu'\n",
        ")\n",
        "\n",
        "print('The accuracy predictor is ready!')\n",
        "print(accuracy_predictor.model)"
      ],
      "metadata": {
        "colab": {
          "base_uri": "https://localhost:8080/"
        },
        "id": "Stb8DHnDaizS",
        "outputId": "96d1d820-48f4-4da8-f1c2-9532b9981d45"
      },
      "execution_count": 94,
      "outputs": [
        {
          "output_type": "stream",
          "name": "stderr",
          "text": [
            "Downloading: \"https://hanlab.mit.edu/files/OnceForAll/tutorial/acc_predictor.pth\" to /root/.torch/acc_predictor.pth\n"
          ]
        },
        {
          "output_type": "stream",
          "name": "stdout",
          "text": [
            "The accuracy predictor is ready!\n",
            "Sequential(\n",
            "  (0): Linear(in_features=128, out_features=400, bias=True)\n",
            "  (1): ReLU()\n",
            "  (2): Linear(in_features=400, out_features=400, bias=True)\n",
            "  (3): ReLU()\n",
            "  (4): Linear(in_features=400, out_features=400, bias=True)\n",
            "  (5): ReLU()\n",
            "  (6): Linear(in_features=400, out_features=1, bias=True)\n",
            ")\n"
          ]
        }
      ]
    },
    {
      "cell_type": "code",
      "source": [
        "target_hardware = 'note10'\n",
        "latency_table = LatencyTable(device=target_hardware)\n",
        "print('The Latency lookup table on %s is ready!' % target_hardware)"
      ],
      "metadata": {
        "colab": {
          "base_uri": "https://localhost:8080/"
        },
        "id": "vrA6mrgraDUD",
        "outputId": "8746abec-fcb5-4a86-aed2-4e908cdf70df"
      },
      "execution_count": 92,
      "outputs": [
        {
          "output_type": "stream",
          "name": "stderr",
          "text": [
            "Downloading: \"https://hanlab.mit.edu/files/OnceForAll/tutorial/latency_table@note10/160_lookup_table.yaml\" to /root/.hancai/latency_tools/160_lookup_table.yaml\n"
          ]
        },
        {
          "output_type": "stream",
          "name": "stdout",
          "text": [
            "Built latency table for image size: 160.\n"
          ]
        },
        {
          "output_type": "stream",
          "name": "stderr",
          "text": [
            "Downloading: \"https://hanlab.mit.edu/files/OnceForAll/tutorial/latency_table@note10/176_lookup_table.yaml\" to /root/.hancai/latency_tools/176_lookup_table.yaml\n"
          ]
        },
        {
          "output_type": "stream",
          "name": "stdout",
          "text": [
            "Built latency table for image size: 176.\n"
          ]
        },
        {
          "output_type": "stream",
          "name": "stderr",
          "text": [
            "Downloading: \"https://hanlab.mit.edu/files/OnceForAll/tutorial/latency_table@note10/192_lookup_table.yaml\" to /root/.hancai/latency_tools/192_lookup_table.yaml\n"
          ]
        },
        {
          "output_type": "stream",
          "name": "stdout",
          "text": [
            "Built latency table for image size: 192.\n"
          ]
        },
        {
          "output_type": "stream",
          "name": "stderr",
          "text": [
            "Downloading: \"https://hanlab.mit.edu/files/OnceForAll/tutorial/latency_table@note10/208_lookup_table.yaml\" to /root/.hancai/latency_tools/208_lookup_table.yaml\n"
          ]
        },
        {
          "output_type": "stream",
          "name": "stdout",
          "text": [
            "Built latency table for image size: 208.\n"
          ]
        },
        {
          "output_type": "stream",
          "name": "stderr",
          "text": [
            "Downloading: \"https://hanlab.mit.edu/files/OnceForAll/tutorial/latency_table@note10/224_lookup_table.yaml\" to /root/.hancai/latency_tools/224_lookup_table.yaml\n"
          ]
        },
        {
          "output_type": "stream",
          "name": "stdout",
          "text": [
            "Built latency table for image size: 224.\n",
            "The Latency lookup table on note10 is ready!\n"
          ]
        }
      ]
    },
    {
      "cell_type": "code",
      "source": [
        "\"\"\" Hyper-parameters for the evolutionary search process\n",
        "    You can modify these hyper-parameters to see how they influence the final ImageNet accuracy of the search sub-net.\n",
        "\"\"\"\n",
        "latency_constraint = 25  # ms, suggested range [15, 33] ms\n",
        "P = 100  # The size of population in each generation\n",
        "N = 500  # How many generations of population to be searched\n",
        "r = 0.25  # The ratio of networks that are used as parents for next generation\n",
        "params = {\n",
        "    'constraint_type': target_hardware, # Let's do latency-constrained search\n",
        "    'efficiency_constraint': latency_constraint,\n",
        "    'mutate_prob': 0.1, # The probability of mutation in evolutionary search\n",
        "    'mutation_ratio': 0.5, # The ratio of networks that are generated through mutation in generation n >= 2.\n",
        "    'efficiency_predictor': latency_table, # To use a predefined efficiency predictor.\n",
        "    'accuracy_predictor': accuracy_predictor, # To use a predefined accuracy_predictor predictor.\n",
        "    'population_size': P,\n",
        "    'max_time_budget': N,\n",
        "    'parent_ratio': r,\n",
        "}\n",
        "\n",
        "# build the evolution finder\n",
        "finder = EvolutionFinder(**params)\n",
        "\n",
        "# start searching\n",
        "result_lis = []\n",
        "st = time.time()\n",
        "best_valids, best_info = finder.run_evolution_search()\n",
        "result_lis.append(best_info)\n",
        "ed = time.time()\n",
        "print('Found best architecture on %s with latency <= %.2f ms in %.2f seconds! '\n",
        "      'It achieves %.2f%s predicted accuracy with %.2f ms latency on %s.' %\n",
        "      (target_hardware, latency_constraint, ed-st, best_info[0] * 100, '%', best_info[-1], target_hardware))\n",
        "\n",
        "# visualize the architecture of the searched sub-net\n",
        "_, net_config, latency = best_info\n",
        "ofa_network.set_active_subnet(ks=net_config['ks'], d=net_config['d'], e=net_config['e'])\n",
        "print('Architecture of the searched sub-net:')\n",
        "print(ofa_network.module_str)"
      ],
      "metadata": {
        "colab": {
          "base_uri": "https://localhost:8080/"
        },
        "id": "KP68svPkacXB",
        "outputId": "2acbae8e-26b0-442e-979f-07048d8bda35"
      },
      "execution_count": 95,
      "outputs": [
        {
          "output_type": "stream",
          "name": "stderr",
          "text": [
            "Searching with note10 constraint (25): 100%|██████████| 500/500 [00:21<00:00, 23.45it/s]"
          ]
        },
        {
          "output_type": "stream",
          "name": "stdout",
          "text": [
            "Found best architecture on note10 with latency <= 25.00 ms in 21.41 seconds! It achieves 81.44% predicted accuracy with 24.89 ms latency on note10.\n",
            "Architecture of the searched sub-net:\n",
            "3x3_Conv_O24_H_SWISH_BN\n",
            "(3x3_MBConv1_RELU_O24_BN, Identity)\n",
            "((O32, E3.0, K5), None)\n",
            "((O32, E4.0, K3), Identity)\n",
            "(SE(O48, E4.0, K7), None)\n",
            "(SE(O48, E4.0, K5), Identity)\n",
            "((O96, E4.0, K7), None)\n",
            "((O96, E3.0, K7), Identity)\n",
            "((O96, E4.0, K3), Identity)\n",
            "(SE(O136, E6.0, K3), None)\n",
            "(SE(O136, E3.0, K5), Identity)\n",
            "(SE(O136, E3.0, K5), Identity)\n",
            "(SE(O136, E3.0, K3), Identity)\n",
            "(SE(O192, E6.0, K7), None)\n",
            "(SE(O192, E6.0, K3), Identity)\n",
            "(SE(O192, E4.0, K3), Identity)\n",
            "(SE(O192, E3.0, K5), Identity)\n",
            "1x1_Conv_O1152_H_SWISH_BN\n",
            "1x1_Conv_O1536_H_SWISH\n",
            "1536x1000_Linear\n",
            "\n"
          ]
        },
        {
          "output_type": "stream",
          "name": "stderr",
          "text": [
            "\n"
          ]
        }
      ]
    },
    {
      "cell_type": "code",
      "source": [
        "# evaluate the searched model on ImageNet\n",
        "if cuda_available:\n",
        "    top1s = []\n",
        "    latency_list = []\n",
        "    for result in result_lis:\n",
        "        _, net_config, latency = result\n",
        "        print('Evaluating the sub-network with latency = %.1f ms on %s' % (latency, target_hardware))\n",
        "        top1 = evaluate_ofa_subnet(\n",
        "            ofa_network,\n",
        "            imagenet_data_path,\n",
        "            net_config,\n",
        "            data_loader,\n",
        "            batch_size=250,\n",
        "            device='cuda:0' if cuda_available else 'cpu')\n",
        "        top1s.append(top1)\n",
        "        latency_list.append(latency)\n",
        "\n",
        "    plt.figure(figsize=(4,4))\n",
        "    plt.plot(latency_list, top1s, 'x-', marker='*', color='darkred',  linewidth=2, markersize=8, label='OFA')\n",
        "    plt.plot([26, 45], [74.6, 76.7], '--', marker='+', linewidth=2, markersize=8, label='ProxylessNAS')\n",
        "    plt.plot([15.3, 22, 31], [73.3, 75.2, 76.6], '--', marker='>', linewidth=2, markersize=8, label='MobileNetV3')\n",
        "    plt.xlabel('%s Latency (ms)' % target_hardware, size=12)\n",
        "    plt.ylabel('ImageNet Top-1 Accuracy (%)', size=12)\n",
        "    plt.legend(['OFA', 'ProxylessNAS', 'MobileNetV3'], loc='lower right')\n",
        "    plt.grid(True)\n",
        "    plt.show()\n",
        "    print('Successfully draw the tradeoff curve!')\n",
        "else:\n",
        "    print('Since GPU is not found in the environment, we skip all scripts related to ImageNet evaluation.')"
      ],
      "metadata": {
        "colab": {
          "base_uri": "https://localhost:8080/",
          "height": 406
        },
        "id": "FNh_ehV1aguw",
        "outputId": "6a597a08-f5b6-45d3-c4ec-5f5c1010b6e9"
      },
      "execution_count": 99,
      "outputs": [
        {
          "output_type": "stream",
          "name": "stdout",
          "text": [
            "Evaluating the sub-network with latency = 24.9 ms on note10\n"
          ]
        },
        {
          "output_type": "stream",
          "name": "stderr",
          "text": [
            "/usr/local/lib/python3.7/dist-packages/torch/utils/data/dataloader.py:490: UserWarning: This DataLoader will create 16 worker processes in total. Our suggested max number of worker in current system is 2, which is smaller than what this DataLoader is going to create. Please be aware that excessive worker creation might get DataLoader running slow or even freeze, lower the worker number to avoid potential slowness/freeze if necessary.\n",
            "  cpuset_checked))\n",
            "Validate: 100%|██████████| 4/4 [00:09<00:00,  2.40s/it, loss=0.926, top1=78.8, top5=94.6, img_size=192]"
          ]
        },
        {
          "output_type": "stream",
          "name": "stdout",
          "text": [
            "Results: loss=0.92643,\t top1=78.8,\t top5=94.6\n"
          ]
        },
        {
          "output_type": "stream",
          "name": "stderr",
          "text": [
            "\n"
          ]
        },
        {
          "output_type": "display_data",
          "data": {
            "text/plain": [
              "<Figure size 288x288 with 1 Axes>"
            ],
            "image/png": "[encoded data removed]"
          },
          "metadata": {
            "needs_background": "light"
          }
        },
        {
          "output_type": "stream",
          "name": "stdout",
          "text": [
            "Successfully draw the tradeoff curve!\n"
          ]
        }
      ]
    },
    {
      "cell_type": "code",
      "source": [
        "evaluator = CostEvaluator();"
      ],
      "metadata": {
        "id": "-_vgDc98bTCK"
      },
      "execution_count": 100,
      "outputs": []
    },
    {
      "cell_type": "code",
      "source": [
        "ofa_network_mem = evaluator.memory_size_evaluator(ofa_network)\n",
        "# consider running resnet50 on Cortex A76 with 3GHz and 16FLOPs for single-point precision\n",
        "a76_flops = 16 * 3 * 10**9\n",
        "jetson_nx_flops = 1.33 * 10**(12) # 1.33 TFLOPs\n",
        "rtx_2080_flops = 13.45 * 10**(12) # 13.45 TFLOPs\n",
        "gtx_1080_flops = 9 * 10**(12) # 9 TFLOPs\n",
        "ofa_network_flops = evaluator.flops_evaluator(ofa_network, 3, 224, 224)\n",
        "ofa_network_mac = evaluator.mac_evaluator(ofa_network, 224, 224)\n",
        "ofa_network_inference_a76 = evaluator.inference_time_evaluator(a76_flops, 'Cortex A76', ofa_network, 3, 224, 224)\n",
        "ofa_network_inference_nx = evaluator.inference_time_evaluator(jetson_nx_flops, 'Jetson Xavier NX', ofa_network, 3, 224, 224)\n",
        "ofa_network_inference_rtx2080 = evaluator.inference_time_evaluator(rtx_2080_flops, 'RTX 2080 GPU', ofa_network, 3, 224, 224)\n",
        "ofa_network_inference_gtx1080 = evaluator.inference_time_evaluator(gtx_1080_flops, 'GTX 1080 GPU', ofa_network, 3, 224, 224)"
      ],
      "metadata": {
        "colab": {
          "base_uri": "https://localhost:8080/"
        },
        "id": "mPAoZ7bibKUp",
        "outputId": "1aea3320-b4af-4d28-a1be-ed6179ceede5"
      },
      "execution_count": 101,
      "outputs": [
        {
          "output_type": "stream",
          "name": "stdout",
          "text": [
            "model size: 41.072MB\n",
            "total FLOPs: 76392489792.000 = 76.392489792G\n",
            "total MACCs: 76273854720.000 = 76.27385472G\n",
            "starting inference time analysis...\n",
            "total FLOPs: 76392489792.000 = 76.392489792G\n",
            "total inference time: 1.592s with Cortex A76\n",
            "starting inference time analysis...\n",
            "total FLOPs: 76392489792.000 = 76.392489792G\n",
            "total inference time: 0.057s with Jetson Xavier NX\n",
            "starting inference time analysis...\n",
            "total FLOPs: 76392489792.000 = 76.392489792G\n",
            "total inference time: 0.006s with RTX 2080 GPU\n",
            "starting inference time analysis...\n",
            "total FLOPs: 76392489792.000 = 76.392489792G\n",
            "total inference time: 0.008s with GTX 1080 GPU\n"
          ]
        }
      ]
    },
    {
      "cell_type": "code",
      "source": [
        ""
      ],
      "metadata": {
        "id": "Us0ZZzvJbTs_"
      },
      "execution_count": null,
      "outputs": []
    }
  ]
}